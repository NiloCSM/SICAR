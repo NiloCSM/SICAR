{
  "cells": [
    {
      "cell_type": "markdown",
      "metadata": {
        "id": "ut_EcJYGGvzG"
      },
      "source": [
        "# SICAR - Colab"
      ]
    },
    {
      "cell_type": "markdown",
      "metadata": {
        "id": "f4q5YavVG26M"
      },
      "source": [
        "Connect your Google Drive account to save files permanently to your drive"
      ]
    },
    {
      "cell_type": "code",
      "execution_count": null,
      "metadata": {
        "colab": {
          "base_uri": "https://localhost:8080/"
        },
        "id": "SewHp3K6wrri",
        "outputId": "607cd332-d46d-4a38-855b-43f03e132b96"
      },
      "outputs": [
        {
          "name": "stdout",
          "output_type": "stream",
          "text": [
            "Drive already mounted at /content/drive; to attempt to forcibly remount, call drive.mount(\"/content/drive\", force_remount=True).\n"
          ]
        }
      ],
      "source": [
        "from google.colab import drive\n",
        "drive.mount('/content/drive')"
      ]
    },
    {
      "cell_type": "markdown",
      "metadata": {
        "id": "7hGN3FJHzWEr"
      },
      "source": [
        "Install SICAR package"
      ]
    },
    {
      "cell_type": "code",
      "execution_count": 30,
      "metadata": {
        "colab": {
          "base_uri": "https://localhost:8080/"
        },
        "id": "pUUHpgV3pIsz",
        "outputId": "ec0d30b6-4339-4349-85e5-17d5389bae53"
      },
      "outputs": [
        {
          "output_type": "stream",
          "name": "stdout",
          "text": [
            "Looking in indexes: https://pypi.org/simple, https://us-python.pkg.dev/colab-wheels/public/simple/\n",
            "Collecting git+https://github.com/NiloCSM/SICAR\n",
            "  Cloning https://github.com/NiloCSM/SICAR to /tmp/pip-req-build-_en4rkhf\n",
            "  Running command git clone --filter=blob:none --quiet https://github.com/NiloCSM/SICAR /tmp/pip-req-build-_en4rkhf\n",
            "  Resolved https://github.com/NiloCSM/SICAR to commit ab5c74298862cb7a4773152691d52de63ae2e7f8\n",
            "  Preparing metadata (setup.py) ... \u001b[?25l\u001b[?25hdone\n",
            "Requirement already satisfied: requests>=2.25.1 in /usr/local/lib/python3.9/dist-packages (from SICAR==0.4.2) (2.27.1)\n",
            "Requirement already satisfied: urllib3>=1.24.3 in /usr/local/lib/python3.9/dist-packages (from SICAR==0.4.2) (1.26.15)\n",
            "Requirement already satisfied: pytesseract==0.3.7 in /usr/local/lib/python3.9/dist-packages (from SICAR==0.4.2) (0.3.7)\n",
            "Requirement already satisfied: opencv-python>=4.6.0 in /usr/local/lib/python3.9/dist-packages (from SICAR==0.4.2) (4.6.0.66)\n",
            "Requirement already satisfied: numpy>=1.21.6 in /usr/local/lib/python3.9/dist-packages (from SICAR==0.4.2) (1.22.4)\n",
            "Requirement already satisfied: tqdm>=4.64.1 in /usr/local/lib/python3.9/dist-packages (from SICAR==0.4.2) (4.65.0)\n",
            "Requirement already satisfied: matplotlib>=3.2.2 in /usr/local/lib/python3.9/dist-packages (from SICAR==0.4.2) (3.7.1)\n",
            "Requirement already satisfied: paddlepaddle==2.4.2 in /usr/local/lib/python3.9/dist-packages (from SICAR==0.4.2) (2.4.2)\n",
            "Requirement already satisfied: paddleocr>=2.6.1 in /usr/local/lib/python3.9/dist-packages (from SICAR==0.4.2) (2.6.1.3)\n",
            "Requirement already satisfied: astor in /usr/local/lib/python3.9/dist-packages (from paddlepaddle==2.4.2->SICAR==0.4.2) (0.8.1)\n",
            "Requirement already satisfied: decorator in /usr/local/lib/python3.9/dist-packages (from paddlepaddle==2.4.2->SICAR==0.4.2) (4.4.2)\n",
            "Requirement already satisfied: paddle-bfloat==0.1.7 in /usr/local/lib/python3.9/dist-packages (from paddlepaddle==2.4.2->SICAR==0.4.2) (0.1.7)\n",
            "Requirement already satisfied: six in /usr/local/lib/python3.9/dist-packages (from paddlepaddle==2.4.2->SICAR==0.4.2) (1.16.0)\n",
            "Requirement already satisfied: Pillow in /usr/local/lib/python3.9/dist-packages (from paddlepaddle==2.4.2->SICAR==0.4.2) (8.4.0)\n",
            "Requirement already satisfied: opt-einsum==3.3.0 in /usr/local/lib/python3.9/dist-packages (from paddlepaddle==2.4.2->SICAR==0.4.2) (3.3.0)\n",
            "Requirement already satisfied: protobuf<=3.20.0,>=3.1.0 in /usr/local/lib/python3.9/dist-packages (from paddlepaddle==2.4.2->SICAR==0.4.2) (3.20.0)\n",
            "Requirement already satisfied: fonttools>=4.22.0 in /usr/local/lib/python3.9/dist-packages (from matplotlib>=3.2.2->SICAR==0.4.2) (4.39.3)\n",
            "Requirement already satisfied: python-dateutil>=2.7 in /usr/local/lib/python3.9/dist-packages (from matplotlib>=3.2.2->SICAR==0.4.2) (2.8.2)\n",
            "Requirement already satisfied: pyparsing>=2.3.1 in /usr/local/lib/python3.9/dist-packages (from matplotlib>=3.2.2->SICAR==0.4.2) (3.0.9)\n",
            "Requirement already satisfied: importlib-resources>=3.2.0 in /usr/local/lib/python3.9/dist-packages (from matplotlib>=3.2.2->SICAR==0.4.2) (5.12.0)\n",
            "Requirement already satisfied: cycler>=0.10 in /usr/local/lib/python3.9/dist-packages (from matplotlib>=3.2.2->SICAR==0.4.2) (0.11.0)\n",
            "Requirement already satisfied: contourpy>=1.0.1 in /usr/local/lib/python3.9/dist-packages (from matplotlib>=3.2.2->SICAR==0.4.2) (1.0.7)\n",
            "Requirement already satisfied: packaging>=20.0 in /usr/local/lib/python3.9/dist-packages (from matplotlib>=3.2.2->SICAR==0.4.2) (23.0)\n",
            "Requirement already satisfied: kiwisolver>=1.0.1 in /usr/local/lib/python3.9/dist-packages (from matplotlib>=3.2.2->SICAR==0.4.2) (1.4.4)\n",
            "Requirement already satisfied: openpyxl in /usr/local/lib/python3.9/dist-packages (from paddleocr>=2.6.1->SICAR==0.4.2) (3.0.10)\n",
            "Requirement already satisfied: python-docx in /usr/local/lib/python3.9/dist-packages (from paddleocr>=2.6.1->SICAR==0.4.2) (0.8.11)\n",
            "Requirement already satisfied: beautifulsoup4 in /usr/local/lib/python3.9/dist-packages (from paddleocr>=2.6.1->SICAR==0.4.2) (4.11.2)\n",
            "Requirement already satisfied: premailer in /usr/local/lib/python3.9/dist-packages (from paddleocr>=2.6.1->SICAR==0.4.2) (3.10.0)\n",
            "Requirement already satisfied: PyMuPDF<1.21.0 in /usr/local/lib/python3.9/dist-packages (from paddleocr>=2.6.1->SICAR==0.4.2) (1.20.2)\n",
            "Requirement already satisfied: cython in /usr/local/lib/python3.9/dist-packages (from paddleocr>=2.6.1->SICAR==0.4.2) (0.29.34)\n",
            "Requirement already satisfied: visualdl in /usr/local/lib/python3.9/dist-packages (from paddleocr>=2.6.1->SICAR==0.4.2) (2.5.1)\n",
            "Requirement already satisfied: fire>=0.3.0 in /usr/local/lib/python3.9/dist-packages (from paddleocr>=2.6.1->SICAR==0.4.2) (0.5.0)\n",
            "Requirement already satisfied: attrdict in /usr/local/lib/python3.9/dist-packages (from paddleocr>=2.6.1->SICAR==0.4.2) (2.0.1)\n",
            "Requirement already satisfied: rapidfuzz in /usr/local/lib/python3.9/dist-packages (from paddleocr>=2.6.1->SICAR==0.4.2) (2.15.0)\n",
            "Requirement already satisfied: lxml in /usr/local/lib/python3.9/dist-packages (from paddleocr>=2.6.1->SICAR==0.4.2) (4.9.2)\n",
            "Requirement already satisfied: lmdb in /usr/local/lib/python3.9/dist-packages (from paddleocr>=2.6.1->SICAR==0.4.2) (1.4.1)\n",
            "Requirement already satisfied: shapely in /usr/local/lib/python3.9/dist-packages (from paddleocr>=2.6.1->SICAR==0.4.2) (2.0.1)\n",
            "Requirement already satisfied: pdf2docx in /usr/local/lib/python3.9/dist-packages (from paddleocr>=2.6.1->SICAR==0.4.2) (0.5.6)\n",
            "Requirement already satisfied: pyclipper in /usr/local/lib/python3.9/dist-packages (from paddleocr>=2.6.1->SICAR==0.4.2) (1.3.0.post4)\n",
            "Requirement already satisfied: opencv-contrib-python<=4.6.0.66 in /usr/local/lib/python3.9/dist-packages (from paddleocr>=2.6.1->SICAR==0.4.2) (4.6.0.66)\n",
            "Requirement already satisfied: scikit-image in /usr/local/lib/python3.9/dist-packages (from paddleocr>=2.6.1->SICAR==0.4.2) (0.19.3)\n",
            "Requirement already satisfied: imgaug in /usr/local/lib/python3.9/dist-packages (from paddleocr>=2.6.1->SICAR==0.4.2) (0.4.0)\n",
            "Requirement already satisfied: charset-normalizer~=2.0.0 in /usr/local/lib/python3.9/dist-packages (from requests>=2.25.1->SICAR==0.4.2) (2.0.12)\n",
            "Requirement already satisfied: certifi>=2017.4.17 in /usr/local/lib/python3.9/dist-packages (from requests>=2.25.1->SICAR==0.4.2) (2022.12.7)\n",
            "Requirement already satisfied: idna<4,>=2.5 in /usr/local/lib/python3.9/dist-packages (from requests>=2.25.1->SICAR==0.4.2) (3.4)\n",
            "Requirement already satisfied: termcolor in /usr/local/lib/python3.9/dist-packages (from fire>=0.3.0->paddleocr>=2.6.1->SICAR==0.4.2) (2.2.0)\n",
            "Requirement already satisfied: zipp>=3.1.0 in /usr/local/lib/python3.9/dist-packages (from importlib-resources>=3.2.0->matplotlib>=3.2.2->SICAR==0.4.2) (3.15.0)\n",
            "Requirement already satisfied: soupsieve>1.2 in /usr/local/lib/python3.9/dist-packages (from beautifulsoup4->paddleocr>=2.6.1->SICAR==0.4.2) (2.4)\n",
            "Requirement already satisfied: imageio in /usr/local/lib/python3.9/dist-packages (from imgaug->paddleocr>=2.6.1->SICAR==0.4.2) (2.25.1)\n",
            "Requirement already satisfied: scipy in /usr/local/lib/python3.9/dist-packages (from imgaug->paddleocr>=2.6.1->SICAR==0.4.2) (1.10.1)\n",
            "Requirement already satisfied: PyWavelets>=1.1.1 in /usr/local/lib/python3.9/dist-packages (from scikit-image->paddleocr>=2.6.1->SICAR==0.4.2) (1.4.1)\n",
            "Requirement already satisfied: networkx>=2.2 in /usr/local/lib/python3.9/dist-packages (from scikit-image->paddleocr>=2.6.1->SICAR==0.4.2) (3.0)\n",
            "Requirement already satisfied: tifffile>=2019.7.26 in /usr/local/lib/python3.9/dist-packages (from scikit-image->paddleocr>=2.6.1->SICAR==0.4.2) (2023.3.21)\n",
            "Requirement already satisfied: et-xmlfile in /usr/local/lib/python3.9/dist-packages (from openpyxl->paddleocr>=2.6.1->SICAR==0.4.2) (1.1.0)\n",
            "Requirement already satisfied: cachetools in /usr/local/lib/python3.9/dist-packages (from premailer->paddleocr>=2.6.1->SICAR==0.4.2) (5.3.0)\n",
            "Requirement already satisfied: cssselect in /usr/local/lib/python3.9/dist-packages (from premailer->paddleocr>=2.6.1->SICAR==0.4.2) (1.2.0)\n",
            "Requirement already satisfied: cssutils in /usr/local/lib/python3.9/dist-packages (from premailer->paddleocr>=2.6.1->SICAR==0.4.2) (2.6.0)\n",
            "Requirement already satisfied: tritonclient[all] in /usr/local/lib/python3.9/dist-packages (from visualdl->paddleocr>=2.6.1->SICAR==0.4.2) (2.32.0)\n",
            "Requirement already satisfied: flask>=1.1.1 in /usr/local/lib/python3.9/dist-packages (from visualdl->paddleocr>=2.6.1->SICAR==0.4.2) (2.2.3)\n",
            "Requirement already satisfied: psutil in /usr/local/lib/python3.9/dist-packages (from visualdl->paddleocr>=2.6.1->SICAR==0.4.2) (5.9.4)\n",
            "Requirement already satisfied: pandas in /usr/local/lib/python3.9/dist-packages (from visualdl->paddleocr>=2.6.1->SICAR==0.4.2) (1.4.4)\n",
            "Requirement already satisfied: onnx>=1.6.0 in /usr/local/lib/python3.9/dist-packages (from visualdl->paddleocr>=2.6.1->SICAR==0.4.2) (1.12.0)\n",
            "Requirement already satisfied: rarfile in /usr/local/lib/python3.9/dist-packages (from visualdl->paddleocr>=2.6.1->SICAR==0.4.2) (4.0)\n",
            "Requirement already satisfied: gradio in /usr/local/lib/python3.9/dist-packages (from visualdl->paddleocr>=2.6.1->SICAR==0.4.2) (3.24.1)\n",
            "Requirement already satisfied: x2paddle in /usr/local/lib/python3.9/dist-packages (from visualdl->paddleocr>=2.6.1->SICAR==0.4.2) (1.4.1)\n",
            "Requirement already satisfied: Flask-Babel>=3.0.0 in /usr/local/lib/python3.9/dist-packages (from visualdl->paddleocr>=2.6.1->SICAR==0.4.2) (3.1.0)\n",
            "Requirement already satisfied: bce-python-sdk in /usr/local/lib/python3.9/dist-packages (from visualdl->paddleocr>=2.6.1->SICAR==0.4.2) (0.8.83)\n",
            "Requirement already satisfied: Jinja2>=3.0 in /usr/local/lib/python3.9/dist-packages (from flask>=1.1.1->visualdl->paddleocr>=2.6.1->SICAR==0.4.2) (3.1.2)\n",
            "Requirement already satisfied: itsdangerous>=2.0 in /usr/local/lib/python3.9/dist-packages (from flask>=1.1.1->visualdl->paddleocr>=2.6.1->SICAR==0.4.2) (2.1.2)\n",
            "Requirement already satisfied: Werkzeug>=2.2.2 in /usr/local/lib/python3.9/dist-packages (from flask>=1.1.1->visualdl->paddleocr>=2.6.1->SICAR==0.4.2) (2.2.3)\n",
            "Requirement already satisfied: importlib-metadata>=3.6.0 in /usr/local/lib/python3.9/dist-packages (from flask>=1.1.1->visualdl->paddleocr>=2.6.1->SICAR==0.4.2) (6.1.0)\n",
            "Requirement already satisfied: click>=8.0 in /usr/local/lib/python3.9/dist-packages (from flask>=1.1.1->visualdl->paddleocr>=2.6.1->SICAR==0.4.2) (8.1.3)\n",
            "Requirement already satisfied: Babel>=2.12 in /usr/local/lib/python3.9/dist-packages (from Flask-Babel>=3.0.0->visualdl->paddleocr>=2.6.1->SICAR==0.4.2) (2.12.1)\n",
            "Requirement already satisfied: pytz>=2022.7 in /usr/local/lib/python3.9/dist-packages (from Flask-Babel>=3.0.0->visualdl->paddleocr>=2.6.1->SICAR==0.4.2) (2022.7.1)\n",
            "Requirement already satisfied: typing-extensions>=3.6.2.1 in /usr/local/lib/python3.9/dist-packages (from onnx>=1.6.0->visualdl->paddleocr>=2.6.1->SICAR==0.4.2) (4.5.0)\n",
            "Requirement already satisfied: future>=0.6.0 in /usr/local/lib/python3.9/dist-packages (from bce-python-sdk->visualdl->paddleocr>=2.6.1->SICAR==0.4.2) (0.18.3)\n",
            "Requirement already satisfied: pycryptodome>=3.8.0 in /usr/local/lib/python3.9/dist-packages (from bce-python-sdk->visualdl->paddleocr>=2.6.1->SICAR==0.4.2) (3.17)\n",
            "Requirement already satisfied: pydantic in /usr/local/lib/python3.9/dist-packages (from gradio->visualdl->paddleocr>=2.6.1->SICAR==0.4.2) (1.10.7)\n",
            "Requirement already satisfied: aiofiles in /usr/local/lib/python3.9/dist-packages (from gradio->visualdl->paddleocr>=2.6.1->SICAR==0.4.2) (23.1.0)\n",
            "Requirement already satisfied: uvicorn in /usr/local/lib/python3.9/dist-packages (from gradio->visualdl->paddleocr>=2.6.1->SICAR==0.4.2) (0.21.1)\n",
            "Requirement already satisfied: websockets>=10.0 in /usr/local/lib/python3.9/dist-packages (from gradio->visualdl->paddleocr>=2.6.1->SICAR==0.4.2) (11.0.1)\n",
            "Requirement already satisfied: semantic-version in /usr/local/lib/python3.9/dist-packages (from gradio->visualdl->paddleocr>=2.6.1->SICAR==0.4.2) (2.10.0)\n",
            "Requirement already satisfied: gradio-client>=0.0.5 in /usr/local/lib/python3.9/dist-packages (from gradio->visualdl->paddleocr>=2.6.1->SICAR==0.4.2) (0.0.8)\n",
            "Requirement already satisfied: markupsafe in /usr/local/lib/python3.9/dist-packages (from gradio->visualdl->paddleocr>=2.6.1->SICAR==0.4.2) (2.1.2)\n",
            "Requirement already satisfied: pyyaml in /usr/local/lib/python3.9/dist-packages (from gradio->visualdl->paddleocr>=2.6.1->SICAR==0.4.2) (6.0)\n",
            "Requirement already satisfied: mdit-py-plugins<=0.3.3 in /usr/local/lib/python3.9/dist-packages (from gradio->visualdl->paddleocr>=2.6.1->SICAR==0.4.2) (0.3.3)\n",
            "Requirement already satisfied: markdown-it-py[linkify]>=2.0.0 in /usr/local/lib/python3.9/dist-packages (from gradio->visualdl->paddleocr>=2.6.1->SICAR==0.4.2) (2.2.0)\n",
            "Requirement already satisfied: orjson in /usr/local/lib/python3.9/dist-packages (from gradio->visualdl->paddleocr>=2.6.1->SICAR==0.4.2) (3.8.10)\n",
            "Requirement already satisfied: python-multipart in /usr/local/lib/python3.9/dist-packages (from gradio->visualdl->paddleocr>=2.6.1->SICAR==0.4.2) (0.0.6)\n",
            "Requirement already satisfied: fastapi in /usr/local/lib/python3.9/dist-packages (from gradio->visualdl->paddleocr>=2.6.1->SICAR==0.4.2) (0.95.0)\n",
            "Requirement already satisfied: httpx in /usr/local/lib/python3.9/dist-packages (from gradio->visualdl->paddleocr>=2.6.1->SICAR==0.4.2) (0.23.3)\n",
            "Requirement already satisfied: aiohttp in /usr/local/lib/python3.9/dist-packages (from gradio->visualdl->paddleocr>=2.6.1->SICAR==0.4.2) (3.8.4)\n",
            "Requirement already satisfied: pydub in /usr/local/lib/python3.9/dist-packages (from gradio->visualdl->paddleocr>=2.6.1->SICAR==0.4.2) (0.25.1)\n",
            "Requirement already satisfied: altair>=4.2.0 in /usr/local/lib/python3.9/dist-packages (from gradio->visualdl->paddleocr>=2.6.1->SICAR==0.4.2) (4.2.2)\n",
            "Requirement already satisfied: huggingface-hub>=0.13.0 in /usr/local/lib/python3.9/dist-packages (from gradio->visualdl->paddleocr>=2.6.1->SICAR==0.4.2) (0.13.4)\n",
            "Requirement already satisfied: ffmpy in /usr/local/lib/python3.9/dist-packages (from gradio->visualdl->paddleocr>=2.6.1->SICAR==0.4.2) (0.3.0)\n",
            "Requirement already satisfied: python-rapidjson>=0.9.1 in /usr/local/lib/python3.9/dist-packages (from tritonclient[all]->visualdl->paddleocr>=2.6.1->SICAR==0.4.2) (1.10)\n",
            "Requirement already satisfied: geventhttpclient<=2.0.2,>=1.4.4 in /usr/local/lib/python3.9/dist-packages (from tritonclient[all]->visualdl->paddleocr>=2.6.1->SICAR==0.4.2) (2.0.2)\n",
            "Requirement already satisfied: grpcio>=1.41.0 in /usr/local/lib/python3.9/dist-packages (from tritonclient[all]->visualdl->paddleocr>=2.6.1->SICAR==0.4.2) (1.53.0)\n",
            "Requirement already satisfied: sympy in /usr/local/lib/python3.9/dist-packages (from x2paddle->visualdl->paddleocr>=2.6.1->SICAR==0.4.2) (1.11.1)\n",
            "Requirement already satisfied: attrs>=17.3.0 in /usr/local/lib/python3.9/dist-packages (from aiohttp->gradio->visualdl->paddleocr>=2.6.1->SICAR==0.4.2) (22.2.0)\n",
            "Requirement already satisfied: aiosignal>=1.1.2 in /usr/local/lib/python3.9/dist-packages (from aiohttp->gradio->visualdl->paddleocr>=2.6.1->SICAR==0.4.2) (1.3.1)\n",
            "Requirement already satisfied: frozenlist>=1.1.1 in /usr/local/lib/python3.9/dist-packages (from aiohttp->gradio->visualdl->paddleocr>=2.6.1->SICAR==0.4.2) (1.3.3)\n",
            "Requirement already satisfied: yarl<2.0,>=1.0 in /usr/local/lib/python3.9/dist-packages (from aiohttp->gradio->visualdl->paddleocr>=2.6.1->SICAR==0.4.2) (1.8.2)\n",
            "Requirement already satisfied: async-timeout<5.0,>=4.0.0a3 in /usr/local/lib/python3.9/dist-packages (from aiohttp->gradio->visualdl->paddleocr>=2.6.1->SICAR==0.4.2) (4.0.2)\n",
            "Requirement already satisfied: multidict<7.0,>=4.5 in /usr/local/lib/python3.9/dist-packages (from aiohttp->gradio->visualdl->paddleocr>=2.6.1->SICAR==0.4.2) (6.0.4)\n",
            "Requirement already satisfied: toolz in /usr/local/lib/python3.9/dist-packages (from altair>=4.2.0->gradio->visualdl->paddleocr>=2.6.1->SICAR==0.4.2) (0.12.0)\n",
            "Requirement already satisfied: jsonschema>=3.0 in /usr/local/lib/python3.9/dist-packages (from altair>=4.2.0->gradio->visualdl->paddleocr>=2.6.1->SICAR==0.4.2) (4.3.3)\n",
            "Requirement already satisfied: entrypoints in /usr/local/lib/python3.9/dist-packages (from altair>=4.2.0->gradio->visualdl->paddleocr>=2.6.1->SICAR==0.4.2) (0.4)\n",
            "Requirement already satisfied: gevent>=0.13 in /usr/local/lib/python3.9/dist-packages (from geventhttpclient<=2.0.2,>=1.4.4->tritonclient[all]->visualdl->paddleocr>=2.6.1->SICAR==0.4.2) (22.10.2)\n",
            "Requirement already satisfied: brotli in /usr/local/lib/python3.9/dist-packages (from geventhttpclient<=2.0.2,>=1.4.4->tritonclient[all]->visualdl->paddleocr>=2.6.1->SICAR==0.4.2) (1.0.9)\n",
            "Requirement already satisfied: fsspec in /usr/local/lib/python3.9/dist-packages (from gradio-client>=0.0.5->gradio->visualdl->paddleocr>=2.6.1->SICAR==0.4.2) (2023.3.0)\n",
            "Requirement already satisfied: filelock in /usr/local/lib/python3.9/dist-packages (from huggingface-hub>=0.13.0->gradio->visualdl->paddleocr>=2.6.1->SICAR==0.4.2) (3.10.7)\n",
            "Requirement already satisfied: mdurl~=0.1 in /usr/local/lib/python3.9/dist-packages (from markdown-it-py[linkify]>=2.0.0->gradio->visualdl->paddleocr>=2.6.1->SICAR==0.4.2) (0.1.2)\n",
            "Requirement already satisfied: linkify-it-py<3,>=1 in /usr/local/lib/python3.9/dist-packages (from markdown-it-py[linkify]>=2.0.0->gradio->visualdl->paddleocr>=2.6.1->SICAR==0.4.2) (2.0.0)\n",
            "Requirement already satisfied: starlette<0.27.0,>=0.26.1 in /usr/local/lib/python3.9/dist-packages (from fastapi->gradio->visualdl->paddleocr>=2.6.1->SICAR==0.4.2) (0.26.1)\n",
            "Requirement already satisfied: rfc3986[idna2008]<2,>=1.3 in /usr/local/lib/python3.9/dist-packages (from httpx->gradio->visualdl->paddleocr>=2.6.1->SICAR==0.4.2) (1.5.0)\n",
            "Requirement already satisfied: httpcore<0.17.0,>=0.15.0 in /usr/local/lib/python3.9/dist-packages (from httpx->gradio->visualdl->paddleocr>=2.6.1->SICAR==0.4.2) (0.16.3)\n",
            "Requirement already satisfied: sniffio in /usr/local/lib/python3.9/dist-packages (from httpx->gradio->visualdl->paddleocr>=2.6.1->SICAR==0.4.2) (1.3.0)\n",
            "Requirement already satisfied: mpmath>=0.19 in /usr/local/lib/python3.9/dist-packages (from sympy->x2paddle->visualdl->paddleocr>=2.6.1->SICAR==0.4.2) (1.3.0)\n",
            "Requirement already satisfied: h11>=0.8 in /usr/local/lib/python3.9/dist-packages (from uvicorn->gradio->visualdl->paddleocr>=2.6.1->SICAR==0.4.2) (0.14.0)\n",
            "Requirement already satisfied: zope.interface in /usr/local/lib/python3.9/dist-packages (from gevent>=0.13->geventhttpclient<=2.0.2,>=1.4.4->tritonclient[all]->visualdl->paddleocr>=2.6.1->SICAR==0.4.2) (6.0)\n",
            "Requirement already satisfied: zope.event in /usr/local/lib/python3.9/dist-packages (from gevent>=0.13->geventhttpclient<=2.0.2,>=1.4.4->tritonclient[all]->visualdl->paddleocr>=2.6.1->SICAR==0.4.2) (4.6)\n",
            "Requirement already satisfied: greenlet>=2.0.0 in /usr/local/lib/python3.9/dist-packages (from gevent>=0.13->geventhttpclient<=2.0.2,>=1.4.4->tritonclient[all]->visualdl->paddleocr>=2.6.1->SICAR==0.4.2) (2.0.2)\n",
            "Requirement already satisfied: setuptools in /usr/local/lib/python3.9/dist-packages (from gevent>=0.13->geventhttpclient<=2.0.2,>=1.4.4->tritonclient[all]->visualdl->paddleocr>=2.6.1->SICAR==0.4.2) (67.6.1)\n",
            "Requirement already satisfied: anyio<5.0,>=3.0 in /usr/local/lib/python3.9/dist-packages (from httpcore<0.17.0,>=0.15.0->httpx->gradio->visualdl->paddleocr>=2.6.1->SICAR==0.4.2) (3.6.2)\n",
            "Requirement already satisfied: pyrsistent!=0.17.0,!=0.17.1,!=0.17.2,>=0.14.0 in /usr/local/lib/python3.9/dist-packages (from jsonschema>=3.0->altair>=4.2.0->gradio->visualdl->paddleocr>=2.6.1->SICAR==0.4.2) (0.19.3)\n",
            "Requirement already satisfied: uc-micro-py in /usr/local/lib/python3.9/dist-packages (from linkify-it-py<3,>=1->markdown-it-py[linkify]>=2.0.0->gradio->visualdl->paddleocr>=2.6.1->SICAR==0.4.2) (1.0.1)\n",
            "Reading package lists... Done\n",
            "Building dependency tree       \n",
            "Reading state information... Done\n",
            "tesseract-ocr is already the newest version (4.1.1-2build2).\n",
            "0 upgraded, 0 newly installed, 0 to remove and 24 not upgraded.\n"
          ]
        }
      ],
      "source": [
        "!pip install git+https://github.com/NiloCSM/SICAR\n",
        "!sudo apt install tesseract-ocr -y"
      ]
    },
    {
      "cell_type": "code",
      "execution_count": null,
      "metadata": {
        "id": "0SiOtCnby3TY"
      },
      "outputs": [],
      "source": [
        "from SICAR import Sicar\n",
        "import pprint"
      ]
    },
    {
      "cell_type": "code",
      "execution_count": null,
      "metadata": {
        "id": "mh1l468ry2pk"
      },
      "outputs": [],
      "source": [
        "car = Sicar(email = \"sicar@sicar.com\")"
      ]
    },
    {
      "cell_type": "code",
      "execution_count": 31,
      "metadata": {
        "id": "OD-ZiKyYy2Zw"
      },
      "outputs": [],
      "source": [
        "# Get cities codes by state\n",
        "cities_codes = car.get_cities_codes(state='MG')"
      ]
    },
    {
      "cell_type": "code",
      "execution_count": 32,
      "metadata": {
        "colab": {
          "base_uri": "https://localhost:8080/"
        },
        "id": "YQLxBxLz0RBQ",
        "outputId": "69826219-aaba-458d-e7c2-953bed3ebc6e"
      },
      "outputs": [
        {
          "output_type": "stream",
          "name": "stdout",
          "text": [
            "{'Abadia dos Dourados': '3100104',\n",
            " 'Abaeté': '3100203',\n",
            " 'Abre Campo': '3100302',\n",
            " 'Acaiaca': '3100401',\n",
            " 'Aguanil': '3100807',\n",
            " 'Aimorés': '3101102',\n",
            " 'Aiuruoca': '3101201',\n",
            " 'Alagoa': '3101300',\n",
            " 'Albertina': '3101409',\n",
            " 'Alfenas': '3101607',\n",
            " 'Alfredo Vasconcelos': '3101631',\n",
            " 'Almenara': '3101706',\n",
            " 'Alpercata': '3101805',\n",
            " 'Alpinópolis': '3101904',\n",
            " 'Alterosa': '3102001',\n",
            " 'Alto Caparaó': '3102050',\n",
            " 'Alto Jequitibá': '3153509',\n",
            " 'Alto Rio Doce': '3102100',\n",
            " 'Alvarenga': '3102209',\n",
            " 'Alvinópolis': '3102308',\n",
            " 'Alvorada de Minas': '3102407',\n",
            " 'Além Paraíba': '3101508',\n",
            " 'Amparo do Serra': '3102506',\n",
            " 'Andradas': '3102605',\n",
            " 'Andrelândia': '3102803',\n",
            " 'Angelândia': '3102852',\n",
            " 'Antônio Carlos': '3102902',\n",
            " 'Antônio Dias': '3103009',\n",
            " 'Antônio Prado de Minas': '3103108',\n",
            " 'Aracitaba': '3103306',\n",
            " 'Araguari': '3103504',\n",
            " 'Arantina': '3103603',\n",
            " 'Araponga': '3103702',\n",
            " 'Araporã': '3103751',\n",
            " 'Arapuá': '3103801',\n",
            " 'Araxá': '3104007',\n",
            " 'Araçaí': '3103207',\n",
            " 'Araçuaí': '3103405',\n",
            " 'Araújos': '3103900',\n",
            " 'Arceburgo': '3104106',\n",
            " 'Arcos': '3104205',\n",
            " 'Areado': '3104304',\n",
            " 'Argirita': '3104403',\n",
            " 'Aricanduva': '3104452',\n",
            " 'Arinos': '3104502',\n",
            " 'Astolfo Dutra': '3104601',\n",
            " 'Ataléia': '3104700',\n",
            " 'Augusto de Lima': '3104809',\n",
            " 'Açucena': '3100500',\n",
            " 'Baependi': '3104908',\n",
            " 'Baldim': '3105004',\n",
            " 'Bambuí': '3105103',\n",
            " 'Bandeira': '3105202',\n",
            " 'Bandeira do Sul': '3105301',\n",
            " 'Barbacena': '3105608',\n",
            " 'Barra Longa': '3105707',\n",
            " 'Barroso': '3105905',\n",
            " 'Barão de Cocais': '3105400',\n",
            " 'Barão de Monte Alto': '3105509',\n",
            " 'Bela Vista de Minas': '3106002',\n",
            " 'Belmiro Braga': '3106101',\n",
            " 'Belo Horizonte': '3106200',\n",
            " 'Belo Oriente': '3106309',\n",
            " 'Belo Vale': '3106408',\n",
            " 'Berilo': '3106507',\n",
            " 'Berizal': '3106655',\n",
            " 'Bertópolis': '3106606',\n",
            " 'Betim': '3106705',\n",
            " 'Bias Fortes': '3106804',\n",
            " 'Bicas': '3106903',\n",
            " 'Biquinhas': '3107000',\n",
            " 'Boa Esperança': '3107109',\n",
            " 'Bocaina de Minas': '3107208',\n",
            " 'Bocaiúva': '3107307',\n",
            " 'Bom Despacho': '3107406',\n",
            " 'Bom Jardim de Minas': '3107505',\n",
            " 'Bom Jesus da Penha': '3107604',\n",
            " 'Bom Jesus do Amparo': '3107703',\n",
            " 'Bom Jesus do Galho': '3107802',\n",
            " 'Bom Repouso': '3107901',\n",
            " 'Bom Sucesso': '3108008',\n",
            " 'Bonfim': '3108107',\n",
            " 'Bonfinópolis de Minas': '3108206',\n",
            " 'Bonito de Minas': '3108255',\n",
            " 'Borda da Mata': '3108305',\n",
            " 'Botelhos': '3108404',\n",
            " 'Botumirim': '3108503',\n",
            " 'Brasilândia de Minas': '3108552',\n",
            " 'Brasília de Minas': '3108602',\n",
            " 'Brazópolis': '3108909',\n",
            " 'Braúnas': '3108800',\n",
            " 'Brumadinho': '3109006',\n",
            " 'Brás Pires': '3108701',\n",
            " 'Bueno Brandão': '3109105',\n",
            " 'Buenópolis': '3109204',\n",
            " 'Bugre': '3109253',\n",
            " 'Buritis': '3109303',\n",
            " 'Buritizeiro': '3109402',\n",
            " 'Cabeceira Grande': '3109451',\n",
            " 'Cabo Verde': '3109501',\n",
            " 'Cachoeira Dourada': '3109808',\n",
            " 'Cachoeira da Prata': '3109600',\n",
            " 'Cachoeira de Minas': '3109709',\n",
            " 'Cachoeira de Pajeú': '3102704',\n",
            " 'Caetanópolis': '3109907',\n",
            " 'Caeté': '3110004',\n",
            " 'Caiana': '3110103',\n",
            " 'Cajuri': '3110202',\n",
            " 'Caldas': '3110301',\n",
            " 'Camacho': '3110400',\n",
            " 'Camanducaia': '3110509',\n",
            " 'Cambuquira': '3110707',\n",
            " 'Cambuí': '3110608',\n",
            " 'Campanha': '3110905',\n",
            " 'Campanário': '3110806',\n",
            " 'Campestre': '3111002',\n",
            " 'Campina Verde': '3111101',\n",
            " 'Campo Azul': '3111150',\n",
            " 'Campo Belo': '3111200',\n",
            " 'Campo Florido': '3111408',\n",
            " 'Campo do Meio': '3111309',\n",
            " 'Campos Altos': '3111507',\n",
            " 'Campos Gerais': '3111606',\n",
            " 'Cana Verde': '3111903',\n",
            " 'Canaã': '3111705',\n",
            " 'Candeias': '3112000',\n",
            " 'Cantagalo': '3112059',\n",
            " 'Canápolis': '3111804',\n",
            " 'Caparaó': '3112109',\n",
            " 'Capela Nova': '3112208',\n",
            " 'Capelinha': '3112307',\n",
            " 'Capetinga': '3112406',\n",
            " 'Capim Branco': '3112505',\n",
            " 'Capinópolis': '3112604',\n",
            " 'Capitão Andrade': '3112653',\n",
            " 'Capitão Enéas': '3112703',\n",
            " 'Capitólio': '3112802',\n",
            " 'Caputira': '3112901',\n",
            " 'Caranaíba': '3113107',\n",
            " 'Carandaí': '3113206',\n",
            " 'Carangola': '3113305',\n",
            " 'Caratinga': '3113404',\n",
            " 'Caraí': '3113008',\n",
            " 'Carbonita': '3113503',\n",
            " 'Careaçu': '3113602',\n",
            " 'Carlos Chagas': '3113701',\n",
            " 'Carmo da Cachoeira': '3113909',\n",
            " 'Carmo da Mata': '3114006',\n",
            " 'Carmo de Minas': '3114105',\n",
            " 'Carmo do Cajuru': '3114204',\n",
            " 'Carmo do Paranaíba': '3114303',\n",
            " 'Carmo do Rio Claro': '3114402',\n",
            " 'Carmésia': '3113800',\n",
            " 'Carmópolis de Minas': '3114501',\n",
            " 'Carneirinho': '3114550',\n",
            " 'Carrancas': '3114600',\n",
            " 'Carvalhos': '3114808',\n",
            " 'Carvalhópolis': '3114709',\n",
            " 'Casa Grande': '3114907',\n",
            " 'Cascalho Rico': '3115003',\n",
            " 'Cataguases': '3115300',\n",
            " 'Catas Altas': '3115359',\n",
            " 'Catas Altas da Noruega': '3115409',\n",
            " 'Catuji': '3115458',\n",
            " 'Catuti': '3115474',\n",
            " 'Caxambu': '3115508',\n",
            " 'Cedro do Abaeté': '3115607',\n",
            " 'Central de Minas': '3115706',\n",
            " 'Centralina': '3115805',\n",
            " 'Chalé': '3116001',\n",
            " 'Chapada Gaúcha': '3116159',\n",
            " 'Chapada do Norte': '3116100',\n",
            " 'Chiador': '3116209',\n",
            " 'Chácara': '3115904',\n",
            " 'Cipotânea': '3116308',\n",
            " 'Claraval': '3116407',\n",
            " 'Claro dos Poções': '3116506',\n",
            " 'Cláudio': '3116605',\n",
            " 'Coimbra': '3116704',\n",
            " 'Coluna': '3116803',\n",
            " 'Comendador Gomes': '3116902',\n",
            " 'Comercinho': '3117009',\n",
            " 'Conceição da Aparecida': '3117108',\n",
            " 'Conceição da Barra de Minas': '3115201',\n",
            " 'Conceição das Alagoas': '3117306',\n",
            " 'Conceição das Pedras': '3117207',\n",
            " 'Conceição de Ipanema': '3117405',\n",
            " 'Conceição do Mato Dentro': '3117504',\n",
            " 'Conceição do Pará': '3117603',\n",
            " 'Conceição do Rio Verde': '3117702',\n",
            " 'Conceição dos Ouros': '3117801',\n",
            " 'Confins': '3117876',\n",
            " 'Congonhal': '3117900',\n",
            " 'Congonhas': '3118007',\n",
            " 'Congonhas do Norte': '3118106',\n",
            " 'Conquista': '3118205',\n",
            " 'Conselheiro Lafaiete': '3118304',\n",
            " 'Conselheiro Pena': '3118403',\n",
            " 'Consolação': '3118502',\n",
            " 'Contagem': '3118601',\n",
            " 'Coqueiral': '3118700',\n",
            " 'Coração de Jesus': '3118809',\n",
            " 'Cordisburgo': '3118908',\n",
            " 'Cordislândia': '3119005',\n",
            " 'Corinto': '3119104',\n",
            " 'Coroaci': '3119203',\n",
            " 'Coromandel': '3119302',\n",
            " 'Coronel Fabriciano': '3119401',\n",
            " 'Coronel Murta': '3119500',\n",
            " 'Coronel Pacheco': '3119609',\n",
            " 'Coronel Xavier Chaves': '3119708',\n",
            " 'Couto de Magalhães de Minas': '3120102',\n",
            " 'Cristais': '3120201',\n",
            " 'Cristiano Otoni': '3120409',\n",
            " 'Cristina': '3120508',\n",
            " 'Cristália': '3120300',\n",
            " 'Crisólita': '3120151',\n",
            " 'Crucilândia': '3120607',\n",
            " 'Cruzeiro da Fortaleza': '3120706',\n",
            " 'Cruzília': '3120805',\n",
            " 'Cuparaque': '3120839',\n",
            " 'Curral de Dentro': '3120870',\n",
            " 'Curvelo': '3120904',\n",
            " 'Cássia': '3115102',\n",
            " 'Córrego Danta': '3119807',\n",
            " 'Córrego Fundo': '3119955',\n",
            " 'Córrego Novo': '3120003',\n",
            " 'Córrego do Bom Jesus': '3119906',\n",
            " 'Cônego Marinho': '3117836',\n",
            " 'Datas': '3121001',\n",
            " 'Delfim Moreira': '3121100',\n",
            " 'Delfinópolis': '3121209',\n",
            " 'Delta': '3121258',\n",
            " 'Descoberto': '3121308',\n",
            " 'Desterro de Entre Rios': '3121407',\n",
            " 'Desterro do Melo': '3121506',\n",
            " 'Diamantina': '3121605',\n",
            " 'Diogo de Vasconcelos': '3121704',\n",
            " 'Dionísio': '3121803',\n",
            " 'Divino': '3122009',\n",
            " 'Divino das Laranjeiras': '3122108',\n",
            " 'Divinolândia de Minas': '3122207',\n",
            " 'Divinésia': '3121902',\n",
            " 'Divinópolis': '3122306',\n",
            " 'Divisa Alegre': '3122355',\n",
            " 'Divisa Nova': '3122405',\n",
            " 'Divisópolis': '3122454',\n",
            " 'Dom Bosco': '3122470',\n",
            " 'Dom Cavati': '3122504',\n",
            " 'Dom Joaquim': '3122603',\n",
            " 'Dom Silvério': '3122702',\n",
            " 'Dom Viçoso': '3122801',\n",
            " 'Dona Euzébia': '3122900',\n",
            " 'Dores de Campos': '3123007',\n",
            " 'Dores de Guanhães': '3123106',\n",
            " 'Dores do Indaiá': '3123205',\n",
            " 'Dores do Turvo': '3123304',\n",
            " 'Doresópolis': '3123403',\n",
            " 'Douradoquara': '3123502',\n",
            " 'Durandé': '3123528',\n",
            " 'Elói Mendes': '3123601',\n",
            " 'Engenheiro Caldas': '3123700',\n",
            " 'Engenheiro Navarro': '3123809',\n",
            " 'Entre Folhas': '3123858',\n",
            " 'Entre Rios de Minas': '3123908',\n",
            " 'Ervália': '3124005',\n",
            " 'Esmeraldas': '3124104',\n",
            " 'Espera Feliz': '3124203',\n",
            " 'Espinosa': '3124302',\n",
            " 'Espírito Santo do Dourado': '3124401',\n",
            " 'Estiva': '3124500',\n",
            " 'Estrela Dalva': '3124609',\n",
            " 'Estrela do Indaiá': '3124708',\n",
            " 'Estrela do Sul': '3124807',\n",
            " 'Eugenópolis': '3124906',\n",
            " 'Ewbank da Câmara': '3125002',\n",
            " 'Extrema': '3125101',\n",
            " 'Fama': '3125200',\n",
            " 'Faria Lemos': '3125309',\n",
            " 'Felisburgo': '3125606',\n",
            " 'Felixlândia': '3125705',\n",
            " 'Felício dos Santos': '3125408',\n",
            " 'Fernandes Tourinho': '3125804',\n",
            " 'Ferros': '3125903',\n",
            " 'Fervedouro': '3125952',\n",
            " 'Florestal': '3126000',\n",
            " 'Formiga': '3126109',\n",
            " 'Formoso': '3126208',\n",
            " 'Fortaleza de Minas': '3126307',\n",
            " 'Fortuna de Minas': '3126406',\n",
            " 'Francisco Badaró': '3126505',\n",
            " 'Francisco Dumont': '3126604',\n",
            " 'Francisco Sá': '3126703',\n",
            " 'Franciscópolis': '3126752',\n",
            " 'Frei Gaspar': '3126802',\n",
            " 'Frei Inocêncio': '3126901',\n",
            " 'Frei Lagonegro': '3126950',\n",
            " 'Fronteira': '3127008',\n",
            " 'Fronteira dos Vales': '3127057',\n",
            " 'Fruta de Leite': '3127073',\n",
            " 'Frutal': '3127107',\n",
            " 'Funilândia': '3127206',\n",
            " 'Galiléia': '3127305',\n",
            " 'Gameleiras': '3127339',\n",
            " 'Glaucilândia': '3127354',\n",
            " 'Goiabeira': '3127370',\n",
            " 'Goianá': '3127388',\n",
            " 'Gonzaga': '3127503',\n",
            " 'Gonçalves': '3127404',\n",
            " 'Gouveia': '3127602',\n",
            " 'Governador Valadares': '3127701',\n",
            " 'Grupiara': '3127909',\n",
            " 'Grão Mogol': '3127800',\n",
            " 'Guanhães': '3128006',\n",
            " 'Guapé': '3128105',\n",
            " 'Guaraciaba': '3128204',\n",
            " 'Guaraciama': '3128253',\n",
            " 'Guarani': '3128402',\n",
            " 'Guaranésia': '3128303',\n",
            " 'Guarará': '3128501',\n",
            " 'Guarda-Mor': '3128600',\n",
            " 'Guaxupé': '3128709',\n",
            " 'Guidoval': '3128808',\n",
            " 'Guimarânia': '3128907',\n",
            " 'Guiricema': '3129004',\n",
            " 'Gurinhatã': '3129103',\n",
            " 'Heliodora': '3129202',\n",
            " 'Iapu': '3129301',\n",
            " 'Ibertioga': '3129400',\n",
            " 'Ibiaí': '3129608',\n",
            " 'Ibiracatu': '3129657',\n",
            " 'Ibiraci': '3129707',\n",
            " 'Ibirité': '3129806',\n",
            " 'Ibitiúra de Minas': '3129905',\n",
            " 'Ibituruna': '3130002',\n",
            " 'Ibiá': '3129509',\n",
            " 'Icaraí de Minas': '3130051',\n",
            " 'Igarapé': '3130101',\n",
            " 'Igaratinga': '3130200',\n",
            " 'Iguatama': '3130309',\n",
            " 'Ijaci': '3130408',\n",
            " 'Ilicínea': '3130507',\n",
            " 'Imbé de Minas': '3130556',\n",
            " 'Inconfidentes': '3130606',\n",
            " 'Indaiabira': '3130655',\n",
            " 'Indianópolis': '3130705',\n",
            " 'Ingaí': '3130804',\n",
            " 'Inhapim': '3130903',\n",
            " 'Inhaúma': '3131000',\n",
            " 'Inimutaba': '3131109',\n",
            " 'Ipaba': '3131158',\n",
            " 'Ipanema': '3131208',\n",
            " 'Ipatinga': '3131307',\n",
            " 'Ipiaçu': '3131406',\n",
            " 'Ipuiúna': '3131505',\n",
            " 'Iraí de Minas': '3131604',\n",
            " 'Itabira': '3131703',\n",
            " 'Itabirinha': '3131802',\n",
            " 'Itabirito': '3131901',\n",
            " 'Itacambira': '3132008',\n",
            " 'Itacarambi': '3132107',\n",
            " 'Itaguara': '3132206',\n",
            " 'Itaipé': '3132305',\n",
            " 'Itajubá': '3132404',\n",
            " 'Itamarandiba': '3132503',\n",
            " 'Itamarati de Minas': '3132602',\n",
            " 'Itambacuri': '3132701',\n",
            " 'Itambé do Mato Dentro': '3132800',\n",
            " 'Itamogi': '3132909',\n",
            " 'Itamonte': '3133006',\n",
            " 'Itanhandu': '3133105',\n",
            " 'Itanhomi': '3133204',\n",
            " 'Itaobim': '3133303',\n",
            " 'Itapagipe': '3133402',\n",
            " 'Itapecerica': '3133501',\n",
            " 'Itapeva': '3133600',\n",
            " 'Itatiaiuçu': '3133709',\n",
            " 'Itaverava': '3133907',\n",
            " 'Itaú de Minas': '3133758',\n",
            " 'Itaúna': '3133808',\n",
            " 'Itinga': '3134004',\n",
            " 'Itueta': '3134103',\n",
            " 'Ituiutaba': '3134202',\n",
            " 'Itumirim': '3134301',\n",
            " 'Iturama': '3134400',\n",
            " 'Itutinga': '3134509',\n",
            " 'Jaboticatubas': '3134608',\n",
            " 'Jacinto': '3134707',\n",
            " 'Jacutinga': '3134905',\n",
            " 'Jacuí': '3134806',\n",
            " 'Jaguaraçu': '3135001',\n",
            " 'Jampruca': '3135076',\n",
            " 'Janaúba': '3135100',\n",
            " 'Januária': '3135209',\n",
            " 'Japaraíba': '3135308',\n",
            " 'Japonvar': '3135357',\n",
            " 'Jaíba': '3135050',\n",
            " 'Jeceaba': '3135407',\n",
            " 'Jenipapo de Minas': '3135456',\n",
            " 'Jequeri': '3135506',\n",
            " 'Jequitaí': '3135605',\n",
            " 'Jequitibá': '3135704',\n",
            " 'Jequitinhonha': '3135803',\n",
            " 'Jesuânia': '3135902',\n",
            " 'Joanésia': '3136108',\n",
            " 'Joaquim Felício': '3136405',\n",
            " 'Joaíma': '3136009',\n",
            " 'Jordânia': '3136504',\n",
            " 'Josenópolis': '3136579',\n",
            " 'José Gonçalves de Minas': '3136520',\n",
            " 'José Raydan': '3136553',\n",
            " 'João Monlevade': '3136207',\n",
            " 'João Pinheiro': '3136306',\n",
            " 'Juatuba': '3136652',\n",
            " 'Juiz de Fora': '3136702',\n",
            " 'Juramento': '3136801',\n",
            " 'Juruaia': '3136900',\n",
            " 'Juvenília': '3136959',\n",
            " 'Ladainha': '3137007',\n",
            " 'Lagamar': '3137106',\n",
            " 'Lagoa Dourada': '3137403',\n",
            " 'Lagoa Formosa': '3137502',\n",
            " 'Lagoa Grande': '3137536',\n",
            " 'Lagoa Santa': '3137601',\n",
            " 'Lagoa da Prata': '3137205',\n",
            " 'Lagoa dos Patos': '3137304',\n",
            " 'Lajinha': '3137700',\n",
            " 'Lambari': '3137809',\n",
            " 'Lamim': '3137908',\n",
            " 'Laranjal': '3138005',\n",
            " 'Lassance': '3138104',\n",
            " 'Lavras': '3138203',\n",
            " 'Leandro Ferreira': '3138302',\n",
            " 'Leme do Prado': '3138351',\n",
            " 'Leopoldina': '3138401',\n",
            " 'Liberdade': '3138500',\n",
            " 'Lima Duarte': '3138609',\n",
            " 'Limeira do Oeste': '3138625',\n",
            " 'Lontra': '3138658',\n",
            " 'Luisburgo': '3138674',\n",
            " 'Luislândia': '3138682',\n",
            " 'Luminárias': '3138708',\n",
            " 'Luz': '3138807',\n",
            " 'Machacalis': '3138906',\n",
            " 'Machado': '3139003',\n",
            " 'Madre de Deus de Minas': '3139102',\n",
            " 'Malacacheta': '3139201',\n",
            " 'Mamonas': '3139250',\n",
            " 'Manga': '3139300',\n",
            " 'Manhuaçu': '3139409',\n",
            " 'Manhumirim': '3139508',\n",
            " 'Mantena': '3139607',\n",
            " 'Mar de Espanha': '3139805',\n",
            " 'Maravilhas': '3139706',\n",
            " 'Maria da Fé': '3139904',\n",
            " 'Mariana': '3140001',\n",
            " 'Marilac': '3140100',\n",
            " 'Maripá de Minas': '3140209',\n",
            " 'Marliéria': '3140308',\n",
            " 'Marmelópolis': '3140407',\n",
            " 'Martinho Campos': '3140506',\n",
            " 'Martins Soares': '3140530',\n",
            " 'Mata Verde': '3140555',\n",
            " 'Materlândia': '3140605',\n",
            " 'Mateus Leme': '3140704',\n",
            " 'Mathias Lobato': '3171501',\n",
            " 'Matias Barbosa': '3140803',\n",
            " 'Matias Cardoso': '3140852',\n",
            " 'Matipó': '3140902',\n",
            " 'Mato Verde': '3141009',\n",
            " 'Matozinhos': '3141108',\n",
            " 'Matutina': '3141207',\n",
            " 'Medeiros': '3141306',\n",
            " 'Medina': '3141405',\n",
            " 'Mendes Pimentel': '3141504',\n",
            " 'Mercês': '3141603',\n",
            " 'Mesquita': '3141702',\n",
            " 'Minas Novas': '3141801',\n",
            " 'Minduri': '3141900',\n",
            " 'Mirabela': '3142007',\n",
            " 'Miradouro': '3142106',\n",
            " 'Miravânia': '3142254',\n",
            " 'Miraí': '3142205',\n",
            " 'Moeda': '3142304',\n",
            " 'Moema': '3142403',\n",
            " 'Monjolos': '3142502',\n",
            " 'Monsenhor Paulo': '3142601',\n",
            " 'Montalvânia': '3142700',\n",
            " 'Monte Alegre de Minas': '3142809',\n",
            " 'Monte Azul': '3142908',\n",
            " 'Monte Belo': '3143005',\n",
            " 'Monte Carmelo': '3143104',\n",
            " 'Monte Formoso': '3143153',\n",
            " 'Monte Santo de Minas': '3143203',\n",
            " 'Monte Sião': '3143401',\n",
            " 'Montes Claros': '3143302',\n",
            " 'Montezuma': '3143450',\n",
            " 'Morada Nova de Minas': '3143500',\n",
            " 'Morro da Garça': '3143609',\n",
            " 'Morro do Pilar': '3143708',\n",
            " 'Munhoz': '3143807',\n",
            " 'Muriaé': '3143906',\n",
            " 'Mutum': '3144003',\n",
            " 'Muzambinho': '3144102',\n",
            " 'Mário Campos': '3140159',\n",
            " 'Nacip Raydan': '3144201',\n",
            " 'Nanuque': '3144300',\n",
            " 'Naque': '3144359',\n",
            " 'Natalândia': '3144375',\n",
            " 'Natércia': '3144409',\n",
            " 'Nazareno': '3144508',\n",
            " 'Nepomuceno': '3144607',\n",
            " 'Ninheira': '3144656',\n",
            " 'Nova Belém': '3144672',\n",
            " 'Nova Era': '3144706',\n",
            " 'Nova Lima': '3144805',\n",
            " 'Nova Módica': '3144904',\n",
            " 'Nova Ponte': '3145000',\n",
            " 'Nova Porteirinha': '3145059',\n",
            " 'Nova Resende': '3145109',\n",
            " 'Nova Serrana': '3145208',\n",
            " 'Nova União': '3136603',\n",
            " 'Novo Cruzeiro': '3145307',\n",
            " 'Novo Oriente de Minas': '3145356',\n",
            " 'Novorizonte': '3145372',\n",
            " 'Olaria': '3145406',\n",
            " \"Olhos-d'Água\": '3145455',\n",
            " 'Oliveira': '3145604',\n",
            " 'Oliveira Fortes': '3145703',\n",
            " 'Olímpio Noronha': '3145505',\n",
            " 'Onça de Pitangui': '3145802',\n",
            " 'Oratórios': '3145851',\n",
            " 'Orizânia': '3145877',\n",
            " 'Ouro Branco': '3145901',\n",
            " 'Ouro Fino': '3146008',\n",
            " 'Ouro Preto': '3146107',\n",
            " 'Ouro Verde de Minas': '3146206',\n",
            " 'Padre Carvalho': '3146255',\n",
            " 'Padre Paraíso': '3146305',\n",
            " 'Pai Pedro': '3146552',\n",
            " 'Paineiras': '3146404',\n",
            " 'Pains': '3146503',\n",
            " 'Paiva': '3146602',\n",
            " 'Palma': '3146701',\n",
            " 'Palmópolis': '3146750',\n",
            " 'Papagaios': '3146909',\n",
            " 'Paracatu': '3147006',\n",
            " 'Paraguaçu': '3147204',\n",
            " 'Paraisópolis': '3147303',\n",
            " 'Paraopeba': '3147402',\n",
            " 'Pará de Minas': '3147105',\n",
            " 'Passa Quatro': '3147600',\n",
            " 'Passa Tempo': '3147709',\n",
            " 'Passa Vinte': '3147808',\n",
            " 'Passabém': '3147501',\n",
            " 'Passos': '3147907',\n",
            " 'Patis': '3147956',\n",
            " 'Patos de Minas': '3148004',\n",
            " 'Patrocínio': '3148103',\n",
            " 'Patrocínio do Muriaé': '3148202',\n",
            " 'Paula Cândido': '3148301',\n",
            " 'Paulistas': '3148400',\n",
            " 'Pavão': '3148509',\n",
            " 'Pedra Azul': '3148707',\n",
            " 'Pedra Bonita': '3148756',\n",
            " 'Pedra Dourada': '3149002',\n",
            " 'Pedra do Anta': '3148806',\n",
            " 'Pedra do Indaiá': '3148905',\n",
            " 'Pedralva': '3149101',\n",
            " 'Pedras de Maria da Cruz': '3149150',\n",
            " 'Pedrinópolis': '3149200',\n",
            " 'Pedro Leopoldo': '3149309',\n",
            " 'Pedro Teixeira': '3149408',\n",
            " 'Pequeri': '3149507',\n",
            " 'Pequi': '3149606',\n",
            " 'Perdigão': '3149705',\n",
            " 'Perdizes': '3149804',\n",
            " 'Perdões': '3149903',\n",
            " 'Periquito': '3149952',\n",
            " 'Pescador': '3150000',\n",
            " 'Peçanha': '3148608',\n",
            " 'Piau': '3150109',\n",
            " 'Piedade de Caratinga': '3150158',\n",
            " 'Piedade de Ponte Nova': '3150208',\n",
            " 'Piedade do Rio Grande': '3150307',\n",
            " 'Piedade dos Gerais': '3150406',\n",
            " 'Pimenta': '3150505',\n",
            " \"Pingo-d'Água\": '3150539',\n",
            " 'Pintópolis': '3150570',\n",
            " 'Piracema': '3150604',\n",
            " 'Pirajuba': '3150703',\n",
            " 'Piranga': '3150802',\n",
            " 'Piranguinho': '3151008',\n",
            " 'Piranguçu': '3150901',\n",
            " 'Pirapetinga': '3151107',\n",
            " 'Pirapora': '3151206',\n",
            " 'Piraúba': '3151305',\n",
            " 'Pitangui': '3151404',\n",
            " 'Piumhi': '3151503',\n",
            " 'Planura': '3151602',\n",
            " 'Pocrane': '3151909',\n",
            " 'Pompéu': '3152006',\n",
            " 'Ponte Nova': '3152105',\n",
            " 'Ponto Chique': '3152131',\n",
            " 'Ponto dos Volantes': '3152170',\n",
            " 'Porteirinha': '3152204',\n",
            " 'Porto Firme': '3152303',\n",
            " 'Poté': '3152402',\n",
            " 'Pouso Alegre': '3152501',\n",
            " 'Pouso Alto': '3152600',\n",
            " 'Poço Fundo': '3151701',\n",
            " 'Poços de Caldas': '3151800',\n",
            " 'Prados': '3152709',\n",
            " 'Prata': '3152808',\n",
            " 'Pratinha': '3153004',\n",
            " 'Pratápolis': '3152907',\n",
            " 'Presidente Bernardes': '3153103',\n",
            " 'Presidente Juscelino': '3153202',\n",
            " 'Presidente Kubitschek': '3153301',\n",
            " 'Presidente Olegário': '3153400',\n",
            " 'Prudente de Morais': '3153608',\n",
            " 'Quartel Geral': '3153707',\n",
            " 'Queluzito': '3153806',\n",
            " 'Raposos': '3153905',\n",
            " 'Raul Soares': '3154002',\n",
            " 'Recreio': '3154101',\n",
            " 'Reduto': '3154150',\n",
            " 'Resende Costa': '3154200',\n",
            " 'Resplendor': '3154309',\n",
            " 'Ressaquinha': '3154408',\n",
            " 'Riachinho': '3154457',\n",
            " 'Riacho dos Machados': '3154507',\n",
            " 'Ribeirão Vermelho': '3154705',\n",
            " 'Ribeirão das Neves': '3154606',\n",
            " 'Rio Acima': '3154804',\n",
            " 'Rio Casca': '3154903',\n",
            " 'Rio Doce': '3155009',\n",
            " 'Rio Espera': '3155207',\n",
            " 'Rio Manso': '3155306',\n",
            " 'Rio Novo': '3155405',\n",
            " 'Rio Paranaíba': '3155504',\n",
            " 'Rio Pardo de Minas': '3155603',\n",
            " 'Rio Piracicaba': '3155702',\n",
            " 'Rio Pomba': '3155801',\n",
            " 'Rio Preto': '3155900',\n",
            " 'Rio Vermelho': '3156007',\n",
            " 'Rio do Prado': '3155108',\n",
            " 'Ritápolis': '3156106',\n",
            " 'Rochedo de Minas': '3156205',\n",
            " 'Rodeiro': '3156304',\n",
            " 'Romaria': '3156403',\n",
            " 'Rosário da Limeira': '3156452',\n",
            " 'Rubelita': '3156502',\n",
            " 'Rubim': '3156601',\n",
            " 'Sabará': '3156700',\n",
            " 'Sabinópolis': '3156809',\n",
            " 'Sacramento': '3156908',\n",
            " 'Salinas': '3157005',\n",
            " 'Salto da Divisa': '3157104',\n",
            " 'Santa Bárbara': '3157203',\n",
            " 'Santa Bárbara do Leste': '3157252',\n",
            " 'Santa Bárbara do Monte Verde': '3157278',\n",
            " 'Santa Bárbara do Tugúrio': '3157302',\n",
            " 'Santa Cruz de Minas': '3157336',\n",
            " 'Santa Cruz de Salinas': '3157377',\n",
            " 'Santa Cruz do Escalvado': '3157401',\n",
            " 'Santa Efigênia de Minas': '3157500',\n",
            " 'Santa Fé de Minas': '3157609',\n",
            " 'Santa Helena de Minas': '3157658',\n",
            " 'Santa Juliana': '3157708',\n",
            " 'Santa Luzia': '3157807',\n",
            " 'Santa Margarida': '3157906',\n",
            " 'Santa Maria de Itabira': '3158003',\n",
            " 'Santa Maria do Salto': '3158102',\n",
            " 'Santa Maria do Suaçuí': '3158201',\n",
            " 'Santa Rita de Caldas': '3159209',\n",
            " 'Santa Rita de Ibitipoca': '3159407',\n",
            " 'Santa Rita de Jacutinga': '3159308',\n",
            " 'Santa Rita de Minas': '3159357',\n",
            " 'Santa Rita do Itueto': '3159506',\n",
            " 'Santa Rita do Sapucaí': '3159605',\n",
            " 'Santa Rosa da Serra': '3159704',\n",
            " 'Santa Vitória': '3159803',\n",
            " 'Santana da Vargem': '3158300',\n",
            " 'Santana de Cataguases': '3158409',\n",
            " 'Santana de Pirapama': '3158508',\n",
            " 'Santana do Deserto': '3158607',\n",
            " 'Santana do Garambéu': '3158706',\n",
            " 'Santana do Jacaré': '3158805',\n",
            " 'Santana do Manhuaçu': '3158904',\n",
            " 'Santana do Paraíso': '3158953',\n",
            " 'Santana do Riacho': '3159001',\n",
            " 'Santana dos Montes': '3159100',\n",
            " 'Santo Antônio do Amparo': '3159902',\n",
            " 'Santo Antônio do Aventureiro': '3160009',\n",
            " 'Santo Antônio do Grama': '3160108',\n",
            " 'Santo Antônio do Itambé': '3160207',\n",
            " 'Santo Antônio do Jacinto': '3160306',\n",
            " 'Santo Antônio do Monte': '3160405',\n",
            " 'Santo Antônio do Retiro': '3160454',\n",
            " 'Santo Antônio do Rio Abaixo': '3160504',\n",
            " 'Santo Hipólito': '3160603',\n",
            " 'Santos Dumont': '3160702',\n",
            " 'Sapucaí-Mirim': '3165404',\n",
            " 'Sardoá': '3165503',\n",
            " 'Sarzedo': '3165537',\n",
            " 'Sem-Peixe': '3165560',\n",
            " 'Senador Amaral': '3165578',\n",
            " 'Senador Cortes': '3165602',\n",
            " 'Senador Firmino': '3165701',\n",
            " 'Senador José Bento': '3165800',\n",
            " 'Senador Modestino Gonçalves': '3165909',\n",
            " 'Senhora de Oliveira': '3166006',\n",
            " 'Senhora do Porto': '3166105',\n",
            " 'Senhora dos Remédios': '3166204',\n",
            " 'Sericita': '3166303',\n",
            " 'Seritinga': '3166402',\n",
            " 'Serra Azul de Minas': '3166501',\n",
            " 'Serra da Saudade': '3166600',\n",
            " 'Serra do Salitre': '3166808',\n",
            " 'Serra dos Aimorés': '3166709',\n",
            " 'Serrania': '3166907',\n",
            " 'Serranos': '3167004',\n",
            " 'Serranópolis de Minas': '3166956',\n",
            " 'Serro': '3167103',\n",
            " 'Sete Lagoas': '3167202',\n",
            " 'Setubinha': '3165552',\n",
            " 'Silveirânia': '3167301',\n",
            " 'Silvianópolis': '3167400',\n",
            " 'Simonésia': '3167608',\n",
            " 'Simão Pereira': '3167509',\n",
            " 'Sobrália': '3167707',\n",
            " 'Soledade de Minas': '3167806',\n",
            " 'São Bento Abade': '3160801',\n",
            " 'São Brás do Suaçuí': '3160900',\n",
            " 'São Domingos das Dores': '3160959',\n",
            " 'São Domingos do Prata': '3161007',\n",
            " 'São Francisco': '3161106',\n",
            " 'São Francisco de Paula': '3161205',\n",
            " 'São Francisco de Sales': '3161304',\n",
            " 'São Francisco do Glória': '3161403',\n",
            " 'São Félix de Minas': '3161056',\n",
            " 'São Geraldo': '3161502',\n",
            " 'São Geraldo da Piedade': '3161601',\n",
            " 'São Geraldo do Baixio': '3161650',\n",
            " 'São Gonçalo do Abaeté': '3161700',\n",
            " 'São Gonçalo do Pará': '3161809',\n",
            " 'São Gonçalo do Rio Abaixo': '3161908',\n",
            " 'São Gonçalo do Rio Preto': '3125507',\n",
            " 'São Gonçalo do Sapucaí': '3162005',\n",
            " 'São Gotardo': '3162104',\n",
            " 'São Joaquim de Bicas': '3162922',\n",
            " 'São José da Barra': '3162948',\n",
            " 'São José da Lapa': '3162955',\n",
            " 'São José da Safira': '3163003',\n",
            " 'São José da Varginha': '3163102',\n",
            " 'São José do Alegre': '3163201',\n",
            " 'São José do Divino': '3163300',\n",
            " 'São José do Goiabal': '3163409',\n",
            " 'São José do Jacuri': '3163508',\n",
            " 'São José do Mantimento': '3163607',\n",
            " 'São João Batista do Glória': '3162203',\n",
            " 'São João Evangelista': '3162807',\n",
            " 'São João Nepomuceno': '3162906',\n",
            " 'São João da Lagoa': '3162252',\n",
            " 'São João da Mata': '3162302',\n",
            " 'São João da Ponte': '3162401',\n",
            " 'São João das Missões': '3162450',\n",
            " 'São João del Rei': '3162500',\n",
            " 'São João do Manhuaçu': '3162559',\n",
            " 'São João do Manteninha': '3162575',\n",
            " 'São João do Oriente': '3162609',\n",
            " 'São João do Pacuí': '3162658',\n",
            " 'São João do Paraíso': '3162708',\n",
            " 'São Lourenço': '3163706',\n",
            " 'São Miguel do Anta': '3163805',\n",
            " 'São Pedro da União': '3163904',\n",
            " 'São Pedro do Suaçuí': '3164100',\n",
            " 'São Pedro dos Ferros': '3164001',\n",
            " 'São Romão': '3164209',\n",
            " 'São Roque de Minas': '3164308',\n",
            " 'São Sebastião da Bela Vista': '3164407',\n",
            " 'São Sebastião da Vargem Alegre': '3164431',\n",
            " 'São Sebastião do Anta': '3164472',\n",
            " 'São Sebastião do Maranhão': '3164506',\n",
            " 'São Sebastião do Oeste': '3164605',\n",
            " 'São Sebastião do Paraíso': '3164704',\n",
            " 'São Sebastião do Rio Preto': '3164803',\n",
            " 'São Sebastião do Rio Verde': '3164902',\n",
            " 'São Tiago': '3165008',\n",
            " 'São Tomás de Aquino': '3165107',\n",
            " 'São Tomé das Letras': '3165206',\n",
            " 'São Vicente de Minas': '3165305',\n",
            " 'Tabuleiro': '3167905',\n",
            " 'Taiobeiras': '3168002',\n",
            " 'Taparuba': '3168051',\n",
            " 'Tapira': '3168101',\n",
            " 'Tapiraí': '3168200',\n",
            " 'Taquaraçu de Minas': '3168309',\n",
            " 'Tarumirim': '3168408',\n",
            " 'Teixeiras': '3168507',\n",
            " 'Teófilo Otoni': '3168606',\n",
            " 'Timóteo': '3168705',\n",
            " 'Tiradentes': '3168804',\n",
            " 'Tiros': '3168903',\n",
            " 'Tocantins': '3169000',\n",
            " 'Tocos do Moji': '3169059',\n",
            " 'Toledo': '3169109',\n",
            " 'Tombos': '3169208',\n",
            " 'Três Corações': '3169307',\n",
            " 'Três Marias': '3169356',\n",
            " 'Três Pontas': '3169406',\n",
            " 'Tumiritinga': '3169505',\n",
            " 'Tupaciguara': '3169604',\n",
            " 'Turmalina': '3169703',\n",
            " 'Turvolândia': '3169802',\n",
            " 'Ubaporanga': '3170057',\n",
            " 'Ubaí': '3170008',\n",
            " 'Uberaba': '3170107',\n",
            " 'Uberlândia': '3170206',\n",
            " 'Ubá': '3169901',\n",
            " 'Umburatiba': '3170305',\n",
            " 'Unaí': '3170404',\n",
            " 'União de Minas': '3170438',\n",
            " 'Uruana de Minas': '3170479',\n",
            " 'Urucuia': '3170529',\n",
            " 'Urucânia': '3170503',\n",
            " 'Vargem Alegre': '3170578',\n",
            " 'Vargem Bonita': '3170602',\n",
            " 'Vargem Grande do Rio Pardo': '3170651',\n",
            " 'Varginha': '3170701',\n",
            " 'Varjão de Minas': '3170750',\n",
            " 'Varzelândia': '3170909',\n",
            " 'Vazante': '3171006',\n",
            " 'Verdelândia': '3171030',\n",
            " 'Veredinha': '3171071',\n",
            " 'Vermelho Novo': '3171154',\n",
            " 'Veríssimo': '3171105',\n",
            " 'Vespasiano': '3171204',\n",
            " 'Vieiras': '3171402',\n",
            " 'Virgem da Lapa': '3171600',\n",
            " 'Virginópolis': '3171808',\n",
            " 'Virgolândia': '3171907',\n",
            " 'Virgínia': '3171709',\n",
            " 'Visconde do Rio Branco': '3172004',\n",
            " 'Viçosa': '3171303',\n",
            " 'Volta Grande': '3172103',\n",
            " 'Várzea da Palma': '3170800',\n",
            " 'Wenceslau Braz': '3172202',\n",
            " 'Água Boa': '3100609',\n",
            " 'Água Comprida': '3100708',\n",
            " 'Águas Formosas': '3100906',\n",
            " 'Águas Vermelhas': '3101003'}\n"
          ]
        }
      ],
      "source": [
        "pprint.pprint(cities_codes)"
      ]
    },
    {
      "cell_type": "markdown",
      "metadata": {
        "id": "CRSKdPny0W4T"
      },
      "source": [
        "### Download city"
      ]
    },
    {
      "cell_type": "code",
      "execution_count": 50,
      "metadata": {
        "colab": {
          "base_uri": "https://localhost:8080/",
          "height": 834
        },
        "id": "ruFkpgh1I4ep",
        "outputId": "fa9f4931-8729-4cf2-ccf7-8cdb4b2d4bc4"
      },
      "outputs": [
        {
          "output_type": "stream",
          "name": "stdout",
          "text": [
            "Try 25 - Requesting shapefile with captcha: kwdVV\n",
            "Try 25 - Incorrect captcha: kwdVV :-(\n",
            "Invalid Captcha: AROQWX\n",
            "Try 24 - Requesting shapefile with captcha: OXTRU\n",
            "Try 24 - Incorrect captcha: OXTRU :-(\n",
            "Try 23 - Requesting shapefile with captcha: KuAgd\n",
            "Try 23 - Incorrect captcha: KuAgd :-(\n",
            "Try 22 - Requesting shapefile with captcha: Badtk\n",
            "Try 22 - Incorrect captcha: Badtk :-(\n",
            "Invalid Captcha: Spa\n",
            "Try 21 - Requesting shapefile with captcha: sMuHQ\n"
          ]
        },
        {
          "output_type": "stream",
          "name": "stderr",
          "text": [
            "Downloading shapefile city code 3107208: 100%|██████████| 6.32k/6.32k [00:03<00:00, 2.02kKB/s]\n"
          ]
        },
        {
          "output_type": "stream",
          "name": "stdout",
          "text": [
            "Try 25 - Requesting shapefile with captcha: xmBPy\n",
            "Try 25 - Incorrect captcha: xmBPy :-(\n",
            "Try 24 - Requesting shapefile with captcha: NEQjt\n",
            "Try 24 - Incorrect captcha: NEQjt :-(\n",
            "Try 23 - Requesting shapefile with captcha: TtnuZ\n",
            "Try 23 - Incorrect captcha: TtnuZ :-(\n",
            "Invalid Captcha: R78a\n",
            "Try 22 - Requesting shapefile with captcha: fpBLY\n"
          ]
        },
        {
          "output_type": "stream",
          "name": "stderr",
          "text": [
            "Downloading shapefile city code 3107307: 14.9kKB [00:05, 2.66kKB/s]                           \n"
          ]
        },
        {
          "output_type": "stream",
          "name": "stdout",
          "text": [
            "Try 25 - Requesting shapefile with captcha: UKrtH\n"
          ]
        },
        {
          "output_type": "stream",
          "name": "stderr",
          "text": [
            "Downloading shapefile city code 3107406: 100%|██████████| 6.89k/6.89k [00:01<00:00, 5.43kKB/s]\n"
          ]
        },
        {
          "output_type": "stream",
          "name": "stdout",
          "text": [
            "Try 25 - Requesting shapefile with captcha: mbevu\n",
            "Try 25 - Incorrect captcha: mbevu :-(\n",
            "Try 24 - Requesting shapefile with captcha: FRanV\n",
            "Try 24 - Incorrect captcha: FRanV :-(\n",
            "Try 23 - Requesting shapefile with captcha: AnYzy\n"
          ]
        },
        {
          "output_type": "stream",
          "name": "stderr",
          "text": [
            "Downloading shapefile city code 3107505:  89%|████████▉ | 4.96k/5.57k [00:02<00:00, 1.78kKB/s]\n"
          ]
        },
        {
          "output_type": "error",
          "ename": "KeyboardInterrupt",
          "evalue": "ignored",
          "traceback": [
            "\u001b[0;31m---------------------------------------------------------------------------\u001b[0m",
            "\u001b[0;31mKeyboardInterrupt\u001b[0m                         Traceback (most recent call last)",
            "\u001b[0;32m<ipython-input-50-29d5bae3922e>\u001b[0m in \u001b[0;36m<cell line: 4>\u001b[0;34m()\u001b[0m\n\u001b[1;32m      3\u001b[0m \u001b[0;34m\u001b[0m\u001b[0m\n\u001b[1;32m      4\u001b[0m \u001b[0;32mfor\u001b[0m \u001b[0mcity_code\u001b[0m \u001b[0;32min\u001b[0m \u001b[0mcity_codes\u001b[0m\u001b[0;34m:\u001b[0m\u001b[0;34m\u001b[0m\u001b[0;34m\u001b[0m\u001b[0m\n\u001b[0;32m----> 5\u001b[0;31m     \u001b[0mcar\u001b[0m\u001b[0;34m.\u001b[0m\u001b[0mdownload_city_code\u001b[0m\u001b[0;34m(\u001b[0m\u001b[0mcity_code\u001b[0m\u001b[0;34m,\u001b[0m \u001b[0mfolder\u001b[0m\u001b[0;34m=\u001b[0m\u001b[0;34m'drive/MyDrive/SICAR/MG/'\u001b[0m\u001b[0;34m+\u001b[0m \u001b[0mcity_code\u001b[0m\u001b[0;34m,\u001b[0m \u001b[0mdebug\u001b[0m\u001b[0;34m=\u001b[0m\u001b[0;32mTrue\u001b[0m\u001b[0;34m)\u001b[0m\u001b[0;34m\u001b[0m\u001b[0;34m\u001b[0m\u001b[0m\n\u001b[0m",
            "\u001b[0;32m/usr/local/lib/python3.9/dist-packages/SICAR/sicar.py\u001b[0m in \u001b[0;36mdownload_city_code\u001b[0;34m(self, city_code, tries, output_format, folder, debug)\u001b[0m\n\u001b[1;32m    280\u001b[0m                             \u001b[0mcity_code\u001b[0m\u001b[0;34m=\u001b[0m\u001b[0mcity_code\u001b[0m\u001b[0;34m,\u001b[0m \u001b[0mcaptcha\u001b[0m\u001b[0;34m=\u001b[0m\u001b[0mcaptcha\u001b[0m\u001b[0;34m,\u001b[0m \u001b[0mfolder\u001b[0m\u001b[0;34m=\u001b[0m\u001b[0mfolder\u001b[0m\u001b[0;34m\u001b[0m\u001b[0;34m\u001b[0m\u001b[0m\n\u001b[1;32m    281\u001b[0m                         )\n\u001b[0;32m--> 282\u001b[0;31m                     return self._download_shapefile(\n\u001b[0m\u001b[1;32m    283\u001b[0m                         \u001b[0mcity_code\u001b[0m\u001b[0;34m=\u001b[0m\u001b[0mcity_code\u001b[0m\u001b[0;34m,\u001b[0m \u001b[0mcaptcha\u001b[0m\u001b[0;34m=\u001b[0m\u001b[0mcaptcha\u001b[0m\u001b[0;34m,\u001b[0m \u001b[0mfolder\u001b[0m\u001b[0;34m=\u001b[0m\u001b[0mfolder\u001b[0m\u001b[0;34m\u001b[0m\u001b[0;34m\u001b[0m\u001b[0m\n\u001b[1;32m    284\u001b[0m                     )\n",
            "\u001b[0;32m/usr/local/lib/python3.9/dist-packages/SICAR/sicar.py\u001b[0m in \u001b[0;36m_download_shapefile\u001b[0;34m(self, city_code, captcha, folder, chunk_size)\u001b[0m\n\u001b[1;32m    197\u001b[0m \u001b[0;34m\u001b[0m\u001b[0m\n\u001b[1;32m    198\u001b[0m         \u001b[0;32mwith\u001b[0m \u001b[0mopen\u001b[0m\u001b[0;34m(\u001b[0m\u001b[0mpath\u001b[0m\u001b[0;34m,\u001b[0m \u001b[0;34m\"wb\"\u001b[0m\u001b[0;34m)\u001b[0m \u001b[0;32mas\u001b[0m \u001b[0mfd\u001b[0m\u001b[0;34m:\u001b[0m\u001b[0;34m\u001b[0m\u001b[0;34m\u001b[0m\u001b[0m\n\u001b[0;32m--> 199\u001b[0;31m             for chunk in tqdm(\n\u001b[0m\u001b[1;32m    200\u001b[0m                 \u001b[0miterable\u001b[0m\u001b[0;34m=\u001b[0m\u001b[0mresponse\u001b[0m\u001b[0;34m.\u001b[0m\u001b[0miter_content\u001b[0m\u001b[0;34m(\u001b[0m\u001b[0mchunk_size\u001b[0m\u001b[0;34m)\u001b[0m\u001b[0;34m,\u001b[0m\u001b[0;34m\u001b[0m\u001b[0;34m\u001b[0m\u001b[0m\n\u001b[1;32m    201\u001b[0m                 \u001b[0mtotal\u001b[0m\u001b[0;34m=\u001b[0m\u001b[0mfloat\u001b[0m\u001b[0;34m(\u001b[0m\u001b[0mresponse\u001b[0m\u001b[0;34m.\u001b[0m\u001b[0mheaders\u001b[0m\u001b[0;34m.\u001b[0m\u001b[0mget\u001b[0m\u001b[0;34m(\u001b[0m\u001b[0;34m\"Content-Length\"\u001b[0m\u001b[0;34m,\u001b[0m \u001b[0;36m0\u001b[0m\u001b[0;34m)\u001b[0m\u001b[0;34m)\u001b[0m \u001b[0;34m/\u001b[0m \u001b[0mchunk_size\u001b[0m\u001b[0;34m,\u001b[0m\u001b[0;34m\u001b[0m\u001b[0;34m\u001b[0m\u001b[0m\n",
            "\u001b[0;32m/usr/local/lib/python3.9/dist-packages/tqdm/std.py\u001b[0m in \u001b[0;36m__iter__\u001b[0;34m(self)\u001b[0m\n\u001b[1;32m   1176\u001b[0m \u001b[0;34m\u001b[0m\u001b[0m\n\u001b[1;32m   1177\u001b[0m         \u001b[0;32mtry\u001b[0m\u001b[0;34m:\u001b[0m\u001b[0;34m\u001b[0m\u001b[0;34m\u001b[0m\u001b[0m\n\u001b[0;32m-> 1178\u001b[0;31m             \u001b[0;32mfor\u001b[0m \u001b[0mobj\u001b[0m \u001b[0;32min\u001b[0m \u001b[0miterable\u001b[0m\u001b[0;34m:\u001b[0m\u001b[0;34m\u001b[0m\u001b[0;34m\u001b[0m\u001b[0m\n\u001b[0m\u001b[1;32m   1179\u001b[0m                 \u001b[0;32myield\u001b[0m \u001b[0mobj\u001b[0m\u001b[0;34m\u001b[0m\u001b[0;34m\u001b[0m\u001b[0m\n\u001b[1;32m   1180\u001b[0m                 \u001b[0;31m# Update and possibly print the progressbar.\u001b[0m\u001b[0;34m\u001b[0m\u001b[0;34m\u001b[0m\u001b[0m\n",
            "\u001b[0;32m/usr/local/lib/python3.9/dist-packages/requests/models.py\u001b[0m in \u001b[0;36mgenerate\u001b[0;34m()\u001b[0m\n\u001b[1;32m    758\u001b[0m             \u001b[0;32mif\u001b[0m \u001b[0mhasattr\u001b[0m\u001b[0;34m(\u001b[0m\u001b[0mself\u001b[0m\u001b[0;34m.\u001b[0m\u001b[0mraw\u001b[0m\u001b[0;34m,\u001b[0m \u001b[0;34m'stream'\u001b[0m\u001b[0;34m)\u001b[0m\u001b[0;34m:\u001b[0m\u001b[0;34m\u001b[0m\u001b[0;34m\u001b[0m\u001b[0m\n\u001b[1;32m    759\u001b[0m                 \u001b[0;32mtry\u001b[0m\u001b[0;34m:\u001b[0m\u001b[0;34m\u001b[0m\u001b[0;34m\u001b[0m\u001b[0m\n\u001b[0;32m--> 760\u001b[0;31m                     \u001b[0;32mfor\u001b[0m \u001b[0mchunk\u001b[0m \u001b[0;32min\u001b[0m \u001b[0mself\u001b[0m\u001b[0;34m.\u001b[0m\u001b[0mraw\u001b[0m\u001b[0;34m.\u001b[0m\u001b[0mstream\u001b[0m\u001b[0;34m(\u001b[0m\u001b[0mchunk_size\u001b[0m\u001b[0;34m,\u001b[0m \u001b[0mdecode_content\u001b[0m\u001b[0;34m=\u001b[0m\u001b[0;32mTrue\u001b[0m\u001b[0;34m)\u001b[0m\u001b[0;34m:\u001b[0m\u001b[0;34m\u001b[0m\u001b[0;34m\u001b[0m\u001b[0m\n\u001b[0m\u001b[1;32m    761\u001b[0m                         \u001b[0;32myield\u001b[0m \u001b[0mchunk\u001b[0m\u001b[0;34m\u001b[0m\u001b[0;34m\u001b[0m\u001b[0m\n\u001b[1;32m    762\u001b[0m                 \u001b[0;32mexcept\u001b[0m \u001b[0mProtocolError\u001b[0m \u001b[0;32mas\u001b[0m \u001b[0me\u001b[0m\u001b[0;34m:\u001b[0m\u001b[0;34m\u001b[0m\u001b[0;34m\u001b[0m\u001b[0m\n",
            "\u001b[0;32m/usr/local/lib/python3.9/dist-packages/urllib3/response.py\u001b[0m in \u001b[0;36mstream\u001b[0;34m(self, amt, decode_content)\u001b[0m\n\u001b[1;32m    626\u001b[0m         \u001b[0;32melse\u001b[0m\u001b[0;34m:\u001b[0m\u001b[0;34m\u001b[0m\u001b[0;34m\u001b[0m\u001b[0m\n\u001b[1;32m    627\u001b[0m             \u001b[0;32mwhile\u001b[0m \u001b[0;32mnot\u001b[0m \u001b[0mis_fp_closed\u001b[0m\u001b[0;34m(\u001b[0m\u001b[0mself\u001b[0m\u001b[0;34m.\u001b[0m\u001b[0m_fp\u001b[0m\u001b[0;34m)\u001b[0m\u001b[0;34m:\u001b[0m\u001b[0;34m\u001b[0m\u001b[0;34m\u001b[0m\u001b[0m\n\u001b[0;32m--> 628\u001b[0;31m                 \u001b[0mdata\u001b[0m \u001b[0;34m=\u001b[0m \u001b[0mself\u001b[0m\u001b[0;34m.\u001b[0m\u001b[0mread\u001b[0m\u001b[0;34m(\u001b[0m\u001b[0mamt\u001b[0m\u001b[0;34m=\u001b[0m\u001b[0mamt\u001b[0m\u001b[0;34m,\u001b[0m \u001b[0mdecode_content\u001b[0m\u001b[0;34m=\u001b[0m\u001b[0mdecode_content\u001b[0m\u001b[0;34m)\u001b[0m\u001b[0;34m\u001b[0m\u001b[0;34m\u001b[0m\u001b[0m\n\u001b[0m\u001b[1;32m    629\u001b[0m \u001b[0;34m\u001b[0m\u001b[0m\n\u001b[1;32m    630\u001b[0m                 \u001b[0;32mif\u001b[0m \u001b[0mdata\u001b[0m\u001b[0;34m:\u001b[0m\u001b[0;34m\u001b[0m\u001b[0;34m\u001b[0m\u001b[0m\n",
            "\u001b[0;32m/usr/local/lib/python3.9/dist-packages/urllib3/response.py\u001b[0m in \u001b[0;36mread\u001b[0;34m(self, amt, decode_content, cache_content)\u001b[0m\n\u001b[1;32m    565\u001b[0m \u001b[0;34m\u001b[0m\u001b[0m\n\u001b[1;32m    566\u001b[0m         \u001b[0;32mwith\u001b[0m \u001b[0mself\u001b[0m\u001b[0;34m.\u001b[0m\u001b[0m_error_catcher\u001b[0m\u001b[0;34m(\u001b[0m\u001b[0;34m)\u001b[0m\u001b[0;34m:\u001b[0m\u001b[0;34m\u001b[0m\u001b[0;34m\u001b[0m\u001b[0m\n\u001b[0;32m--> 567\u001b[0;31m             \u001b[0mdata\u001b[0m \u001b[0;34m=\u001b[0m \u001b[0mself\u001b[0m\u001b[0;34m.\u001b[0m\u001b[0m_fp_read\u001b[0m\u001b[0;34m(\u001b[0m\u001b[0mamt\u001b[0m\u001b[0;34m)\u001b[0m \u001b[0;32mif\u001b[0m \u001b[0;32mnot\u001b[0m \u001b[0mfp_closed\u001b[0m \u001b[0;32melse\u001b[0m \u001b[0;34mb\"\"\u001b[0m\u001b[0;34m\u001b[0m\u001b[0;34m\u001b[0m\u001b[0m\n\u001b[0m\u001b[1;32m    568\u001b[0m             \u001b[0;32mif\u001b[0m \u001b[0mamt\u001b[0m \u001b[0;32mis\u001b[0m \u001b[0;32mNone\u001b[0m\u001b[0;34m:\u001b[0m\u001b[0;34m\u001b[0m\u001b[0;34m\u001b[0m\u001b[0m\n\u001b[1;32m    569\u001b[0m                 \u001b[0mflush_decoder\u001b[0m \u001b[0;34m=\u001b[0m \u001b[0;32mTrue\u001b[0m\u001b[0;34m\u001b[0m\u001b[0;34m\u001b[0m\u001b[0m\n",
            "\u001b[0;32m/usr/local/lib/python3.9/dist-packages/urllib3/response.py\u001b[0m in \u001b[0;36m_fp_read\u001b[0;34m(self, amt)\u001b[0m\n\u001b[1;32m    531\u001b[0m         \u001b[0;32melse\u001b[0m\u001b[0;34m:\u001b[0m\u001b[0;34m\u001b[0m\u001b[0;34m\u001b[0m\u001b[0m\n\u001b[1;32m    532\u001b[0m             \u001b[0;31m# StringIO doesn't like amt=None\u001b[0m\u001b[0;34m\u001b[0m\u001b[0;34m\u001b[0m\u001b[0m\n\u001b[0;32m--> 533\u001b[0;31m             \u001b[0;32mreturn\u001b[0m \u001b[0mself\u001b[0m\u001b[0;34m.\u001b[0m\u001b[0m_fp\u001b[0m\u001b[0;34m.\u001b[0m\u001b[0mread\u001b[0m\u001b[0;34m(\u001b[0m\u001b[0mamt\u001b[0m\u001b[0;34m)\u001b[0m \u001b[0;32mif\u001b[0m \u001b[0mamt\u001b[0m \u001b[0;32mis\u001b[0m \u001b[0;32mnot\u001b[0m \u001b[0;32mNone\u001b[0m \u001b[0;32melse\u001b[0m \u001b[0mself\u001b[0m\u001b[0;34m.\u001b[0m\u001b[0m_fp\u001b[0m\u001b[0;34m.\u001b[0m\u001b[0mread\u001b[0m\u001b[0;34m(\u001b[0m\u001b[0;34m)\u001b[0m\u001b[0;34m\u001b[0m\u001b[0;34m\u001b[0m\u001b[0m\n\u001b[0m\u001b[1;32m    534\u001b[0m \u001b[0;34m\u001b[0m\u001b[0m\n\u001b[1;32m    535\u001b[0m     \u001b[0;32mdef\u001b[0m \u001b[0mread\u001b[0m\u001b[0;34m(\u001b[0m\u001b[0mself\u001b[0m\u001b[0;34m,\u001b[0m \u001b[0mamt\u001b[0m\u001b[0;34m=\u001b[0m\u001b[0;32mNone\u001b[0m\u001b[0;34m,\u001b[0m \u001b[0mdecode_content\u001b[0m\u001b[0;34m=\u001b[0m\u001b[0;32mNone\u001b[0m\u001b[0;34m,\u001b[0m \u001b[0mcache_content\u001b[0m\u001b[0;34m=\u001b[0m\u001b[0;32mFalse\u001b[0m\u001b[0;34m)\u001b[0m\u001b[0;34m:\u001b[0m\u001b[0;34m\u001b[0m\u001b[0;34m\u001b[0m\u001b[0m\n",
            "\u001b[0;32m/usr/lib/python3.9/http/client.py\u001b[0m in \u001b[0;36mread\u001b[0;34m(self, amt)\u001b[0m\n\u001b[1;32m    461\u001b[0m             \u001b[0;31m# Amount is given, implement using readinto\u001b[0m\u001b[0;34m\u001b[0m\u001b[0;34m\u001b[0m\u001b[0m\n\u001b[1;32m    462\u001b[0m             \u001b[0mb\u001b[0m \u001b[0;34m=\u001b[0m \u001b[0mbytearray\u001b[0m\u001b[0;34m(\u001b[0m\u001b[0mamt\u001b[0m\u001b[0;34m)\u001b[0m\u001b[0;34m\u001b[0m\u001b[0;34m\u001b[0m\u001b[0m\n\u001b[0;32m--> 463\u001b[0;31m             \u001b[0mn\u001b[0m \u001b[0;34m=\u001b[0m \u001b[0mself\u001b[0m\u001b[0;34m.\u001b[0m\u001b[0mreadinto\u001b[0m\u001b[0;34m(\u001b[0m\u001b[0mb\u001b[0m\u001b[0;34m)\u001b[0m\u001b[0;34m\u001b[0m\u001b[0;34m\u001b[0m\u001b[0m\n\u001b[0m\u001b[1;32m    464\u001b[0m             \u001b[0;32mreturn\u001b[0m \u001b[0mmemoryview\u001b[0m\u001b[0;34m(\u001b[0m\u001b[0mb\u001b[0m\u001b[0;34m)\u001b[0m\u001b[0;34m[\u001b[0m\u001b[0;34m:\u001b[0m\u001b[0mn\u001b[0m\u001b[0;34m]\u001b[0m\u001b[0;34m.\u001b[0m\u001b[0mtobytes\u001b[0m\u001b[0;34m(\u001b[0m\u001b[0;34m)\u001b[0m\u001b[0;34m\u001b[0m\u001b[0;34m\u001b[0m\u001b[0m\n\u001b[1;32m    465\u001b[0m         \u001b[0;32melse\u001b[0m\u001b[0;34m:\u001b[0m\u001b[0;34m\u001b[0m\u001b[0;34m\u001b[0m\u001b[0m\n",
            "\u001b[0;32m/usr/lib/python3.9/http/client.py\u001b[0m in \u001b[0;36mreadinto\u001b[0;34m(self, b)\u001b[0m\n\u001b[1;32m    505\u001b[0m         \u001b[0;31m# connection, and the user is reading more bytes than will be provided\u001b[0m\u001b[0;34m\u001b[0m\u001b[0;34m\u001b[0m\u001b[0m\n\u001b[1;32m    506\u001b[0m         \u001b[0;31m# (for example, reading in 1k chunks)\u001b[0m\u001b[0;34m\u001b[0m\u001b[0;34m\u001b[0m\u001b[0m\n\u001b[0;32m--> 507\u001b[0;31m         \u001b[0mn\u001b[0m \u001b[0;34m=\u001b[0m \u001b[0mself\u001b[0m\u001b[0;34m.\u001b[0m\u001b[0mfp\u001b[0m\u001b[0;34m.\u001b[0m\u001b[0mreadinto\u001b[0m\u001b[0;34m(\u001b[0m\u001b[0mb\u001b[0m\u001b[0;34m)\u001b[0m\u001b[0;34m\u001b[0m\u001b[0;34m\u001b[0m\u001b[0m\n\u001b[0m\u001b[1;32m    508\u001b[0m         \u001b[0;32mif\u001b[0m \u001b[0;32mnot\u001b[0m \u001b[0mn\u001b[0m \u001b[0;32mand\u001b[0m \u001b[0mb\u001b[0m\u001b[0;34m:\u001b[0m\u001b[0;34m\u001b[0m\u001b[0;34m\u001b[0m\u001b[0m\n\u001b[1;32m    509\u001b[0m             \u001b[0;31m# Ideally, we would raise IncompleteRead if the content-length\u001b[0m\u001b[0;34m\u001b[0m\u001b[0;34m\u001b[0m\u001b[0m\n",
            "\u001b[0;32m/usr/lib/python3.9/socket.py\u001b[0m in \u001b[0;36mreadinto\u001b[0;34m(self, b)\u001b[0m\n\u001b[1;32m    702\u001b[0m         \u001b[0;32mwhile\u001b[0m \u001b[0;32mTrue\u001b[0m\u001b[0;34m:\u001b[0m\u001b[0;34m\u001b[0m\u001b[0;34m\u001b[0m\u001b[0m\n\u001b[1;32m    703\u001b[0m             \u001b[0;32mtry\u001b[0m\u001b[0;34m:\u001b[0m\u001b[0;34m\u001b[0m\u001b[0;34m\u001b[0m\u001b[0m\n\u001b[0;32m--> 704\u001b[0;31m                 \u001b[0;32mreturn\u001b[0m \u001b[0mself\u001b[0m\u001b[0;34m.\u001b[0m\u001b[0m_sock\u001b[0m\u001b[0;34m.\u001b[0m\u001b[0mrecv_into\u001b[0m\u001b[0;34m(\u001b[0m\u001b[0mb\u001b[0m\u001b[0;34m)\u001b[0m\u001b[0;34m\u001b[0m\u001b[0;34m\u001b[0m\u001b[0m\n\u001b[0m\u001b[1;32m    705\u001b[0m             \u001b[0;32mexcept\u001b[0m \u001b[0mtimeout\u001b[0m\u001b[0;34m:\u001b[0m\u001b[0;34m\u001b[0m\u001b[0;34m\u001b[0m\u001b[0m\n\u001b[1;32m    706\u001b[0m                 \u001b[0mself\u001b[0m\u001b[0;34m.\u001b[0m\u001b[0m_timeout_occurred\u001b[0m \u001b[0;34m=\u001b[0m \u001b[0;32mTrue\u001b[0m\u001b[0;34m\u001b[0m\u001b[0;34m\u001b[0m\u001b[0m\n",
            "\u001b[0;32m/usr/lib/python3.9/ssl.py\u001b[0m in \u001b[0;36mrecv_into\u001b[0;34m(self, buffer, nbytes, flags)\u001b[0m\n\u001b[1;32m   1240\u001b[0m                   \u001b[0;34m\"non-zero flags not allowed in calls to recv_into() on %s\"\u001b[0m \u001b[0;34m%\u001b[0m\u001b[0;34m\u001b[0m\u001b[0;34m\u001b[0m\u001b[0m\n\u001b[1;32m   1241\u001b[0m                   self.__class__)\n\u001b[0;32m-> 1242\u001b[0;31m             \u001b[0;32mreturn\u001b[0m \u001b[0mself\u001b[0m\u001b[0;34m.\u001b[0m\u001b[0mread\u001b[0m\u001b[0;34m(\u001b[0m\u001b[0mnbytes\u001b[0m\u001b[0;34m,\u001b[0m \u001b[0mbuffer\u001b[0m\u001b[0;34m)\u001b[0m\u001b[0;34m\u001b[0m\u001b[0;34m\u001b[0m\u001b[0m\n\u001b[0m\u001b[1;32m   1243\u001b[0m         \u001b[0;32melse\u001b[0m\u001b[0;34m:\u001b[0m\u001b[0;34m\u001b[0m\u001b[0;34m\u001b[0m\u001b[0m\n\u001b[1;32m   1244\u001b[0m             \u001b[0;32mreturn\u001b[0m \u001b[0msuper\u001b[0m\u001b[0;34m(\u001b[0m\u001b[0;34m)\u001b[0m\u001b[0;34m.\u001b[0m\u001b[0mrecv_into\u001b[0m\u001b[0;34m(\u001b[0m\u001b[0mbuffer\u001b[0m\u001b[0;34m,\u001b[0m \u001b[0mnbytes\u001b[0m\u001b[0;34m,\u001b[0m \u001b[0mflags\u001b[0m\u001b[0;34m)\u001b[0m\u001b[0;34m\u001b[0m\u001b[0;34m\u001b[0m\u001b[0m\n",
            "\u001b[0;32m/usr/lib/python3.9/ssl.py\u001b[0m in \u001b[0;36mread\u001b[0;34m(self, len, buffer)\u001b[0m\n\u001b[1;32m   1098\u001b[0m         \u001b[0;32mtry\u001b[0m\u001b[0;34m:\u001b[0m\u001b[0;34m\u001b[0m\u001b[0;34m\u001b[0m\u001b[0m\n\u001b[1;32m   1099\u001b[0m             \u001b[0;32mif\u001b[0m \u001b[0mbuffer\u001b[0m \u001b[0;32mis\u001b[0m \u001b[0;32mnot\u001b[0m \u001b[0;32mNone\u001b[0m\u001b[0;34m:\u001b[0m\u001b[0;34m\u001b[0m\u001b[0;34m\u001b[0m\u001b[0m\n\u001b[0;32m-> 1100\u001b[0;31m                 \u001b[0;32mreturn\u001b[0m \u001b[0mself\u001b[0m\u001b[0;34m.\u001b[0m\u001b[0m_sslobj\u001b[0m\u001b[0;34m.\u001b[0m\u001b[0mread\u001b[0m\u001b[0;34m(\u001b[0m\u001b[0mlen\u001b[0m\u001b[0;34m,\u001b[0m \u001b[0mbuffer\u001b[0m\u001b[0;34m)\u001b[0m\u001b[0;34m\u001b[0m\u001b[0;34m\u001b[0m\u001b[0m\n\u001b[0m\u001b[1;32m   1101\u001b[0m             \u001b[0;32melse\u001b[0m\u001b[0;34m:\u001b[0m\u001b[0;34m\u001b[0m\u001b[0;34m\u001b[0m\u001b[0m\n\u001b[1;32m   1102\u001b[0m                 \u001b[0;32mreturn\u001b[0m \u001b[0mself\u001b[0m\u001b[0;34m.\u001b[0m\u001b[0m_sslobj\u001b[0m\u001b[0;34m.\u001b[0m\u001b[0mread\u001b[0m\u001b[0;34m(\u001b[0m\u001b[0mlen\u001b[0m\u001b[0;34m)\u001b[0m\u001b[0;34m\u001b[0m\u001b[0;34m\u001b[0m\u001b[0m\n",
            "\u001b[0;31mKeyboardInterrupt\u001b[0m: "
          ]
        }
      ],
      "source": [
        "# 'Salinas': '3157005'\n",
        "cities_codes = car.get_cities_codes(state='MG')\n",
        "\n",
        "for city_code in city_codes:\n",
        "    car.download_city_code(city_code, folder='drive/MyDrive/SICAR/MG/'+ city_code, debug=True)"
      ]
    },
    {
      "cell_type": "code",
      "execution_count": 38,
      "metadata": {
        "colab": {
          "base_uri": "https://localhost:8080/"
        },
        "id": "y_X3LgYs0RHJ",
        "outputId": "1663ae7b-202f-404a-f4f6-556f66fd6ef3"
      },
      "outputs": [
        {
          "output_type": "stream",
          "name": "stderr",
          "text": [
            "Downloading shapefile city code 3107505: 5.57kKB [00:03, 1.77kKB/s]                           \n"
          ]
        },
        {
          "output_type": "execute_result",
          "data": {
            "text/plain": [
              "PosixPath('drive/MyDrive/SICAR/MG/SHAPE_3107505.zip')"
            ]
          },
          "metadata": {},
          "execution_count": 38
        }
      ],
      "source": [
        "# 'Curral de Dentro': '3120870',\n",
        "car.download_city_code(city_code, folder='drive/MyDrive/SICAR/MG', debug=False)"
      ]
    },
    {
      "cell_type": "markdown",
      "metadata": {
        "id": "Le170ede1Gmu"
      },
      "source": [
        "### Download cities"
      ]
    },
    {
      "cell_type": "code",
      "execution_count": 47,
      "metadata": {
        "colab": {
          "base_uri": "https://localhost:8080/",
          "height": 715
        },
        "id": "GSoc1FBD0RJo",
        "outputId": "5d4c3fd7-d28a-41be-c883-37eb480f8d4f"
      },
      "outputs": [
        {
          "output_type": "stream",
          "name": "stdout",
          "text": [
            "Try 25 - Requesting shapefile with captcha: udi7K\n",
            "Try 25 - Incorrect captcha: udi7K :-(\n",
            "Try 24 - Requesting shapefile with captcha: hZPEU\n",
            "Try 24 - Incorrect captcha: hZPEU :-(\n",
            "Try 23 - Requesting shapefile with captcha: witAG\n",
            "Try 23 - Incorrect captcha: witAG :-(\n",
            "Invalid Captcha: \n",
            "Try 22 - Requesting shapefile with captcha: xhueH\n"
          ]
        },
        {
          "output_type": "stream",
          "name": "stderr",
          "text": [
            "Downloading shapefile city code 3100104: 100%|██████████| 8.06k/8.06k [00:04<00:00, 2.06kKB/s]\n"
          ]
        },
        {
          "output_type": "stream",
          "name": "stdout",
          "text": [
            "Invalid Captcha: Ly7qcA\n",
            "Try 25 - Requesting shapefile with captcha: pHimM\n",
            "Try 25 - Incorrect captcha: pHimM :-(\n",
            "Try 24 - Requesting shapefile with captcha: OAMBy\n",
            "Try 24 - Incorrect captcha: OAMBy :-(\n",
            "Try 23 - Requesting shapefile with captcha: Z6qWv\n"
          ]
        },
        {
          "output_type": "stream",
          "name": "stderr",
          "text": [
            "Downloading shapefile city code 3100203: 8.79kKB [00:04, 2.24kKB/s]                           \n"
          ]
        },
        {
          "output_type": "stream",
          "name": "stdout",
          "text": [
            "Try 25 - Requesting shapefile with captcha: ZyLGa\n",
            "Try 25 - Incorrect captcha: ZyLGa :-(\n",
            "Invalid Captcha: PeYrti\n",
            "Try 24 - Requesting shapefile with captcha: oye2w\n",
            "Try 24 - Incorrect captcha: oye2w :-(\n",
            "Invalid Captcha: WGmo\n"
          ]
        },
        {
          "output_type": "error",
          "ename": "KeyboardInterrupt",
          "evalue": "ignored",
          "traceback": [
            "\u001b[0;31m---------------------------------------------------------------------------\u001b[0m",
            "\u001b[0;31mKeyboardInterrupt\u001b[0m                         Traceback (most recent call last)",
            "\u001b[0;32m<ipython-input-47-fcbf2952ca0a>\u001b[0m in \u001b[0;36m<cell line: 2>\u001b[0;34m()\u001b[0m\n\u001b[1;32m      2\u001b[0m \u001b[0;32mfor\u001b[0m \u001b[0mcity_name\u001b[0m\u001b[0;34m,\u001b[0m \u001b[0mcity_code\u001b[0m \u001b[0;32min\u001b[0m \u001b[0mcities_codes\u001b[0m\u001b[0;34m.\u001b[0m\u001b[0mitems\u001b[0m\u001b[0;34m(\u001b[0m\u001b[0;34m)\u001b[0m\u001b[0;34m:\u001b[0m\u001b[0;34m\u001b[0m\u001b[0;34m\u001b[0m\u001b[0m\n\u001b[1;32m      3\u001b[0m     \u001b[0msingle_city_code\u001b[0m \u001b[0;34m=\u001b[0m \u001b[0;34m{\u001b[0m\u001b[0mcity_name\u001b[0m\u001b[0;34m:\u001b[0m \u001b[0mcity_code\u001b[0m\u001b[0;34m}\u001b[0m\u001b[0;34m\u001b[0m\u001b[0;34m\u001b[0m\u001b[0m\n\u001b[0;32m----> 4\u001b[0;31m     \u001b[0mcar\u001b[0m\u001b[0;34m.\u001b[0m\u001b[0mdownload_cities\u001b[0m\u001b[0;34m(\u001b[0m\u001b[0mcities_codes\u001b[0m\u001b[0;34m=\u001b[0m\u001b[0msingle_city_code\u001b[0m\u001b[0;34m,\u001b[0m \u001b[0mfolder\u001b[0m\u001b[0;34m=\u001b[0m\u001b[0;34m'drive/MyDrive/SICAR/CIDADES/'\u001b[0m \u001b[0;34m+\u001b[0m \u001b[0mcity_name\u001b[0m\u001b[0;34m,\u001b[0m \u001b[0mdebug\u001b[0m\u001b[0;34m=\u001b[0m\u001b[0;32mTrue\u001b[0m\u001b[0;34m)\u001b[0m\u001b[0;34m\u001b[0m\u001b[0;34m\u001b[0m\u001b[0m\n\u001b[0m",
            "\u001b[0;32m/usr/local/lib/python3.9/dist-packages/SICAR/sicar.py\u001b[0m in \u001b[0;36mdownload_cities\u001b[0;34m(self, cities_codes, output_format, tries, folder, debug)\u001b[0m\n\u001b[1;32m    308\u001b[0m \u001b[0;34m\u001b[0m\u001b[0m\n\u001b[1;32m    309\u001b[0m         \u001b[0;32mfor\u001b[0m \u001b[0mcity\u001b[0m\u001b[0;34m,\u001b[0m \u001b[0mcode\u001b[0m \u001b[0;32min\u001b[0m \u001b[0mcities_codes\u001b[0m\u001b[0;34m.\u001b[0m\u001b[0mitems\u001b[0m\u001b[0;34m(\u001b[0m\u001b[0;34m)\u001b[0m\u001b[0;34m:\u001b[0m\u001b[0;34m\u001b[0m\u001b[0;34m\u001b[0m\u001b[0m\n\u001b[0;32m--> 310\u001b[0;31m             if not self.download_city_code(\n\u001b[0m\u001b[1;32m    311\u001b[0m                 \u001b[0mcity_code\u001b[0m\u001b[0;34m=\u001b[0m\u001b[0mcode\u001b[0m\u001b[0;34m,\u001b[0m\u001b[0;34m\u001b[0m\u001b[0;34m\u001b[0m\u001b[0m\n\u001b[1;32m    312\u001b[0m                 \u001b[0moutput_format\u001b[0m\u001b[0;34m=\u001b[0m\u001b[0moutput_format\u001b[0m\u001b[0;34m,\u001b[0m\u001b[0;34m\u001b[0m\u001b[0;34m\u001b[0m\u001b[0m\n",
            "\u001b[0;32m/usr/local/lib/python3.9/dist-packages/SICAR/sicar.py\u001b[0m in \u001b[0;36mdownload_city_code\u001b[0;34m(self, city_code, tries, output_format, folder, debug)\u001b[0m\n\u001b[1;32m    266\u001b[0m             \u001b[0;32mtry\u001b[0m\u001b[0;34m:\u001b[0m\u001b[0;34m\u001b[0m\u001b[0;34m\u001b[0m\u001b[0m\n\u001b[1;32m    267\u001b[0m                 captcha = self.__driver._get_captcha(\n\u001b[0;32m--> 268\u001b[0;31m                     \u001b[0mself\u001b[0m\u001b[0;34m.\u001b[0m\u001b[0m_download_captcha\u001b[0m\u001b[0;34m(\u001b[0m\u001b[0mfolder\u001b[0m\u001b[0;34m=\u001b[0m\u001b[0mfolder\u001b[0m\u001b[0;34m)\u001b[0m\u001b[0;34m\u001b[0m\u001b[0;34m\u001b[0m\u001b[0m\n\u001b[0m\u001b[1;32m    269\u001b[0m                 )\n\u001b[1;32m    270\u001b[0m \u001b[0;34m\u001b[0m\u001b[0m\n",
            "\u001b[0;32m/usr/local/lib/python3.9/dist-packages/SICAR/sicar.py\u001b[0m in \u001b[0;36m_download_captcha\u001b[0;34m(self, filename, folder)\u001b[0m\n\u001b[1;32m    149\u001b[0m         \u001b[0mself\u001b[0m\u001b[0;34m,\u001b[0m \u001b[0mfilename\u001b[0m\u001b[0;34m:\u001b[0m \u001b[0mstr\u001b[0m \u001b[0;34m=\u001b[0m \u001b[0;34m\"captcha\"\u001b[0m\u001b[0;34m,\u001b[0m \u001b[0mfolder\u001b[0m\u001b[0;34m:\u001b[0m \u001b[0mstr\u001b[0m \u001b[0;34m=\u001b[0m \u001b[0;34m\"temp\"\u001b[0m\u001b[0;34m\u001b[0m\u001b[0;34m\u001b[0m\u001b[0m\n\u001b[1;32m    150\u001b[0m     ) -> Path:\n\u001b[0;32m--> 151\u001b[0;31m         response = self._get(\n\u001b[0m\u001b[1;32m    152\u001b[0m             \"{}?{}\".format(\n\u001b[1;32m    153\u001b[0m                 \u001b[0mself\u001b[0m\u001b[0;34m.\u001b[0m\u001b[0m__capctha_url\u001b[0m\u001b[0;34m,\u001b[0m \u001b[0murlencode\u001b[0m\u001b[0;34m(\u001b[0m\u001b[0;34m{\u001b[0m\u001b[0;34m\"id\"\u001b[0m\u001b[0;34m:\u001b[0m \u001b[0mint\u001b[0m\u001b[0;34m(\u001b[0m\u001b[0mrandom\u001b[0m\u001b[0;34m.\u001b[0m\u001b[0mrandom\u001b[0m\u001b[0;34m(\u001b[0m\u001b[0;34m)\u001b[0m \u001b[0;34m*\u001b[0m \u001b[0;36m1000000\u001b[0m\u001b[0;34m)\u001b[0m\u001b[0;34m}\u001b[0m\u001b[0;34m)\u001b[0m\u001b[0;34m\u001b[0m\u001b[0;34m\u001b[0m\u001b[0m\n",
            "\u001b[0;32m/usr/local/lib/python3.9/dist-packages/SICAR/sicar.py\u001b[0m in \u001b[0;36m_get\u001b[0;34m(self, url, *args, **kwargs)\u001b[0m\n\u001b[1;32m     93\u001b[0m \u001b[0;34m\u001b[0m\u001b[0m\n\u001b[1;32m     94\u001b[0m     \u001b[0;32mdef\u001b[0m \u001b[0m_get\u001b[0m\u001b[0;34m(\u001b[0m\u001b[0mself\u001b[0m\u001b[0;34m,\u001b[0m \u001b[0murl\u001b[0m\u001b[0;34m:\u001b[0m \u001b[0mstr\u001b[0m\u001b[0;34m,\u001b[0m \u001b[0;34m*\u001b[0m\u001b[0margs\u001b[0m\u001b[0;34m,\u001b[0m \u001b[0;34m**\u001b[0m\u001b[0mkwargs\u001b[0m\u001b[0;34m)\u001b[0m\u001b[0;34m:\u001b[0m\u001b[0;34m\u001b[0m\u001b[0;34m\u001b[0m\u001b[0m\n\u001b[0;32m---> 95\u001b[0;31m         \u001b[0mresponse\u001b[0m \u001b[0;34m=\u001b[0m \u001b[0mself\u001b[0m\u001b[0;34m.\u001b[0m\u001b[0m__session\u001b[0m\u001b[0;34m.\u001b[0m\u001b[0mget\u001b[0m\u001b[0;34m(\u001b[0m\u001b[0murl\u001b[0m\u001b[0;34m,\u001b[0m \u001b[0mverify\u001b[0m\u001b[0;34m=\u001b[0m\u001b[0;32mFalse\u001b[0m\u001b[0;34m,\u001b[0m \u001b[0;34m*\u001b[0m\u001b[0margs\u001b[0m\u001b[0;34m,\u001b[0m \u001b[0;34m**\u001b[0m\u001b[0mkwargs\u001b[0m\u001b[0;34m)\u001b[0m\u001b[0;34m\u001b[0m\u001b[0;34m\u001b[0m\u001b[0m\n\u001b[0m\u001b[1;32m     96\u001b[0m \u001b[0;34m\u001b[0m\u001b[0m\n\u001b[1;32m     97\u001b[0m         \u001b[0;32mif\u001b[0m \u001b[0;32mnot\u001b[0m \u001b[0mresponse\u001b[0m\u001b[0;34m.\u001b[0m\u001b[0mok\u001b[0m\u001b[0;34m:\u001b[0m\u001b[0;34m\u001b[0m\u001b[0;34m\u001b[0m\u001b[0m\n",
            "\u001b[0;32m/usr/local/lib/python3.9/dist-packages/requests/sessions.py\u001b[0m in \u001b[0;36mget\u001b[0;34m(self, url, **kwargs)\u001b[0m\n\u001b[1;32m    540\u001b[0m \u001b[0;34m\u001b[0m\u001b[0m\n\u001b[1;32m    541\u001b[0m         \u001b[0mkwargs\u001b[0m\u001b[0;34m.\u001b[0m\u001b[0msetdefault\u001b[0m\u001b[0;34m(\u001b[0m\u001b[0;34m'allow_redirects'\u001b[0m\u001b[0;34m,\u001b[0m \u001b[0;32mTrue\u001b[0m\u001b[0;34m)\u001b[0m\u001b[0;34m\u001b[0m\u001b[0;34m\u001b[0m\u001b[0m\n\u001b[0;32m--> 542\u001b[0;31m         \u001b[0;32mreturn\u001b[0m \u001b[0mself\u001b[0m\u001b[0;34m.\u001b[0m\u001b[0mrequest\u001b[0m\u001b[0;34m(\u001b[0m\u001b[0;34m'GET'\u001b[0m\u001b[0;34m,\u001b[0m \u001b[0murl\u001b[0m\u001b[0;34m,\u001b[0m \u001b[0;34m**\u001b[0m\u001b[0mkwargs\u001b[0m\u001b[0;34m)\u001b[0m\u001b[0;34m\u001b[0m\u001b[0;34m\u001b[0m\u001b[0m\n\u001b[0m\u001b[1;32m    543\u001b[0m \u001b[0;34m\u001b[0m\u001b[0m\n\u001b[1;32m    544\u001b[0m     \u001b[0;32mdef\u001b[0m \u001b[0moptions\u001b[0m\u001b[0;34m(\u001b[0m\u001b[0mself\u001b[0m\u001b[0;34m,\u001b[0m \u001b[0murl\u001b[0m\u001b[0;34m,\u001b[0m \u001b[0;34m**\u001b[0m\u001b[0mkwargs\u001b[0m\u001b[0;34m)\u001b[0m\u001b[0;34m:\u001b[0m\u001b[0;34m\u001b[0m\u001b[0;34m\u001b[0m\u001b[0m\n",
            "\u001b[0;32m/usr/local/lib/python3.9/dist-packages/requests/sessions.py\u001b[0m in \u001b[0;36mrequest\u001b[0;34m(self, method, url, params, data, headers, cookies, files, auth, timeout, allow_redirects, proxies, hooks, stream, verify, cert, json)\u001b[0m\n\u001b[1;32m    527\u001b[0m         }\n\u001b[1;32m    528\u001b[0m         \u001b[0msend_kwargs\u001b[0m\u001b[0;34m.\u001b[0m\u001b[0mupdate\u001b[0m\u001b[0;34m(\u001b[0m\u001b[0msettings\u001b[0m\u001b[0;34m)\u001b[0m\u001b[0;34m\u001b[0m\u001b[0;34m\u001b[0m\u001b[0m\n\u001b[0;32m--> 529\u001b[0;31m         \u001b[0mresp\u001b[0m \u001b[0;34m=\u001b[0m \u001b[0mself\u001b[0m\u001b[0;34m.\u001b[0m\u001b[0msend\u001b[0m\u001b[0;34m(\u001b[0m\u001b[0mprep\u001b[0m\u001b[0;34m,\u001b[0m \u001b[0;34m**\u001b[0m\u001b[0msend_kwargs\u001b[0m\u001b[0;34m)\u001b[0m\u001b[0;34m\u001b[0m\u001b[0;34m\u001b[0m\u001b[0m\n\u001b[0m\u001b[1;32m    530\u001b[0m \u001b[0;34m\u001b[0m\u001b[0m\n\u001b[1;32m    531\u001b[0m         \u001b[0;32mreturn\u001b[0m \u001b[0mresp\u001b[0m\u001b[0;34m\u001b[0m\u001b[0;34m\u001b[0m\u001b[0m\n",
            "\u001b[0;32m/usr/local/lib/python3.9/dist-packages/requests/sessions.py\u001b[0m in \u001b[0;36msend\u001b[0;34m(self, request, **kwargs)\u001b[0m\n\u001b[1;32m    643\u001b[0m \u001b[0;34m\u001b[0m\u001b[0m\n\u001b[1;32m    644\u001b[0m         \u001b[0;31m# Send the request\u001b[0m\u001b[0;34m\u001b[0m\u001b[0;34m\u001b[0m\u001b[0m\n\u001b[0;32m--> 645\u001b[0;31m         \u001b[0mr\u001b[0m \u001b[0;34m=\u001b[0m \u001b[0madapter\u001b[0m\u001b[0;34m.\u001b[0m\u001b[0msend\u001b[0m\u001b[0;34m(\u001b[0m\u001b[0mrequest\u001b[0m\u001b[0;34m,\u001b[0m \u001b[0;34m**\u001b[0m\u001b[0mkwargs\u001b[0m\u001b[0;34m)\u001b[0m\u001b[0;34m\u001b[0m\u001b[0;34m\u001b[0m\u001b[0m\n\u001b[0m\u001b[1;32m    646\u001b[0m \u001b[0;34m\u001b[0m\u001b[0m\n\u001b[1;32m    647\u001b[0m         \u001b[0;31m# Total elapsed time of the request (approximately)\u001b[0m\u001b[0;34m\u001b[0m\u001b[0;34m\u001b[0m\u001b[0m\n",
            "\u001b[0;32m/usr/local/lib/python3.9/dist-packages/requests/adapters.py\u001b[0m in \u001b[0;36msend\u001b[0;34m(self, request, stream, timeout, verify, cert, proxies)\u001b[0m\n\u001b[1;32m    438\u001b[0m         \u001b[0;32mtry\u001b[0m\u001b[0;34m:\u001b[0m\u001b[0;34m\u001b[0m\u001b[0;34m\u001b[0m\u001b[0m\n\u001b[1;32m    439\u001b[0m             \u001b[0;32mif\u001b[0m \u001b[0;32mnot\u001b[0m \u001b[0mchunked\u001b[0m\u001b[0;34m:\u001b[0m\u001b[0;34m\u001b[0m\u001b[0;34m\u001b[0m\u001b[0m\n\u001b[0;32m--> 440\u001b[0;31m                 resp = conn.urlopen(\n\u001b[0m\u001b[1;32m    441\u001b[0m                     \u001b[0mmethod\u001b[0m\u001b[0;34m=\u001b[0m\u001b[0mrequest\u001b[0m\u001b[0;34m.\u001b[0m\u001b[0mmethod\u001b[0m\u001b[0;34m,\u001b[0m\u001b[0;34m\u001b[0m\u001b[0;34m\u001b[0m\u001b[0m\n\u001b[1;32m    442\u001b[0m                     \u001b[0murl\u001b[0m\u001b[0;34m=\u001b[0m\u001b[0murl\u001b[0m\u001b[0;34m,\u001b[0m\u001b[0;34m\u001b[0m\u001b[0;34m\u001b[0m\u001b[0m\n",
            "\u001b[0;32m/usr/local/lib/python3.9/dist-packages/urllib3/connectionpool.py\u001b[0m in \u001b[0;36murlopen\u001b[0;34m(self, method, url, body, headers, retries, redirect, assert_same_host, timeout, pool_timeout, release_conn, chunked, body_pos, **response_kw)\u001b[0m\n\u001b[1;32m    701\u001b[0m \u001b[0;34m\u001b[0m\u001b[0m\n\u001b[1;32m    702\u001b[0m             \u001b[0;31m# Make the request on the httplib connection object.\u001b[0m\u001b[0;34m\u001b[0m\u001b[0;34m\u001b[0m\u001b[0m\n\u001b[0;32m--> 703\u001b[0;31m             httplib_response = self._make_request(\n\u001b[0m\u001b[1;32m    704\u001b[0m                 \u001b[0mconn\u001b[0m\u001b[0;34m,\u001b[0m\u001b[0;34m\u001b[0m\u001b[0;34m\u001b[0m\u001b[0m\n\u001b[1;32m    705\u001b[0m                 \u001b[0mmethod\u001b[0m\u001b[0;34m,\u001b[0m\u001b[0;34m\u001b[0m\u001b[0;34m\u001b[0m\u001b[0m\n",
            "\u001b[0;32m/usr/local/lib/python3.9/dist-packages/urllib3/connectionpool.py\u001b[0m in \u001b[0;36m_make_request\u001b[0;34m(self, conn, method, url, timeout, chunked, **httplib_request_kw)\u001b[0m\n\u001b[1;32m    447\u001b[0m                     \u001b[0;31m# Python 3 (including for exceptions like SystemExit).\u001b[0m\u001b[0;34m\u001b[0m\u001b[0;34m\u001b[0m\u001b[0m\n\u001b[1;32m    448\u001b[0m                     \u001b[0;31m# Otherwise it looks like a bug in the code.\u001b[0m\u001b[0;34m\u001b[0m\u001b[0;34m\u001b[0m\u001b[0m\n\u001b[0;32m--> 449\u001b[0;31m                     \u001b[0msix\u001b[0m\u001b[0;34m.\u001b[0m\u001b[0mraise_from\u001b[0m\u001b[0;34m(\u001b[0m\u001b[0me\u001b[0m\u001b[0;34m,\u001b[0m \u001b[0;32mNone\u001b[0m\u001b[0;34m)\u001b[0m\u001b[0;34m\u001b[0m\u001b[0;34m\u001b[0m\u001b[0m\n\u001b[0m\u001b[1;32m    450\u001b[0m         \u001b[0;32mexcept\u001b[0m \u001b[0;34m(\u001b[0m\u001b[0mSocketTimeout\u001b[0m\u001b[0;34m,\u001b[0m \u001b[0mBaseSSLError\u001b[0m\u001b[0;34m,\u001b[0m \u001b[0mSocketError\u001b[0m\u001b[0;34m)\u001b[0m \u001b[0;32mas\u001b[0m \u001b[0me\u001b[0m\u001b[0;34m:\u001b[0m\u001b[0;34m\u001b[0m\u001b[0;34m\u001b[0m\u001b[0m\n\u001b[1;32m    451\u001b[0m             \u001b[0mself\u001b[0m\u001b[0;34m.\u001b[0m\u001b[0m_raise_timeout\u001b[0m\u001b[0;34m(\u001b[0m\u001b[0merr\u001b[0m\u001b[0;34m=\u001b[0m\u001b[0me\u001b[0m\u001b[0;34m,\u001b[0m \u001b[0murl\u001b[0m\u001b[0;34m=\u001b[0m\u001b[0murl\u001b[0m\u001b[0;34m,\u001b[0m \u001b[0mtimeout_value\u001b[0m\u001b[0;34m=\u001b[0m\u001b[0mread_timeout\u001b[0m\u001b[0;34m)\u001b[0m\u001b[0;34m\u001b[0m\u001b[0;34m\u001b[0m\u001b[0m\n",
            "\u001b[0;32m/usr/local/lib/python3.9/dist-packages/urllib3/packages/six.py\u001b[0m in \u001b[0;36mraise_from\u001b[0;34m(value, from_value)\u001b[0m\n",
            "\u001b[0;32m/usr/local/lib/python3.9/dist-packages/urllib3/connectionpool.py\u001b[0m in \u001b[0;36m_make_request\u001b[0;34m(self, conn, method, url, timeout, chunked, **httplib_request_kw)\u001b[0m\n\u001b[1;32m    442\u001b[0m                 \u001b[0;31m# Python 3\u001b[0m\u001b[0;34m\u001b[0m\u001b[0;34m\u001b[0m\u001b[0m\n\u001b[1;32m    443\u001b[0m                 \u001b[0;32mtry\u001b[0m\u001b[0;34m:\u001b[0m\u001b[0;34m\u001b[0m\u001b[0;34m\u001b[0m\u001b[0m\n\u001b[0;32m--> 444\u001b[0;31m                     \u001b[0mhttplib_response\u001b[0m \u001b[0;34m=\u001b[0m \u001b[0mconn\u001b[0m\u001b[0;34m.\u001b[0m\u001b[0mgetresponse\u001b[0m\u001b[0;34m(\u001b[0m\u001b[0;34m)\u001b[0m\u001b[0;34m\u001b[0m\u001b[0;34m\u001b[0m\u001b[0m\n\u001b[0m\u001b[1;32m    445\u001b[0m                 \u001b[0;32mexcept\u001b[0m \u001b[0mBaseException\u001b[0m \u001b[0;32mas\u001b[0m \u001b[0me\u001b[0m\u001b[0;34m:\u001b[0m\u001b[0;34m\u001b[0m\u001b[0;34m\u001b[0m\u001b[0m\n\u001b[1;32m    446\u001b[0m                     \u001b[0;31m# Remove the TypeError from the exception chain in\u001b[0m\u001b[0;34m\u001b[0m\u001b[0;34m\u001b[0m\u001b[0m\n",
            "\u001b[0;32m/usr/lib/python3.9/http/client.py\u001b[0m in \u001b[0;36mgetresponse\u001b[0;34m(self)\u001b[0m\n\u001b[1;32m   1375\u001b[0m         \u001b[0;32mtry\u001b[0m\u001b[0;34m:\u001b[0m\u001b[0;34m\u001b[0m\u001b[0;34m\u001b[0m\u001b[0m\n\u001b[1;32m   1376\u001b[0m             \u001b[0;32mtry\u001b[0m\u001b[0;34m:\u001b[0m\u001b[0;34m\u001b[0m\u001b[0;34m\u001b[0m\u001b[0m\n\u001b[0;32m-> 1377\u001b[0;31m                 \u001b[0mresponse\u001b[0m\u001b[0;34m.\u001b[0m\u001b[0mbegin\u001b[0m\u001b[0;34m(\u001b[0m\u001b[0;34m)\u001b[0m\u001b[0;34m\u001b[0m\u001b[0;34m\u001b[0m\u001b[0m\n\u001b[0m\u001b[1;32m   1378\u001b[0m             \u001b[0;32mexcept\u001b[0m \u001b[0mConnectionError\u001b[0m\u001b[0;34m:\u001b[0m\u001b[0;34m\u001b[0m\u001b[0;34m\u001b[0m\u001b[0m\n\u001b[1;32m   1379\u001b[0m                 \u001b[0mself\u001b[0m\u001b[0;34m.\u001b[0m\u001b[0mclose\u001b[0m\u001b[0;34m(\u001b[0m\u001b[0;34m)\u001b[0m\u001b[0;34m\u001b[0m\u001b[0;34m\u001b[0m\u001b[0m\n",
            "\u001b[0;32m/usr/lib/python3.9/http/client.py\u001b[0m in \u001b[0;36mbegin\u001b[0;34m(self)\u001b[0m\n\u001b[1;32m    318\u001b[0m         \u001b[0;31m# read until we get a non-100 response\u001b[0m\u001b[0;34m\u001b[0m\u001b[0;34m\u001b[0m\u001b[0m\n\u001b[1;32m    319\u001b[0m         \u001b[0;32mwhile\u001b[0m \u001b[0;32mTrue\u001b[0m\u001b[0;34m:\u001b[0m\u001b[0;34m\u001b[0m\u001b[0;34m\u001b[0m\u001b[0m\n\u001b[0;32m--> 320\u001b[0;31m             \u001b[0mversion\u001b[0m\u001b[0;34m,\u001b[0m \u001b[0mstatus\u001b[0m\u001b[0;34m,\u001b[0m \u001b[0mreason\u001b[0m \u001b[0;34m=\u001b[0m \u001b[0mself\u001b[0m\u001b[0;34m.\u001b[0m\u001b[0m_read_status\u001b[0m\u001b[0;34m(\u001b[0m\u001b[0;34m)\u001b[0m\u001b[0;34m\u001b[0m\u001b[0;34m\u001b[0m\u001b[0m\n\u001b[0m\u001b[1;32m    321\u001b[0m             \u001b[0;32mif\u001b[0m \u001b[0mstatus\u001b[0m \u001b[0;34m!=\u001b[0m \u001b[0mCONTINUE\u001b[0m\u001b[0;34m:\u001b[0m\u001b[0;34m\u001b[0m\u001b[0;34m\u001b[0m\u001b[0m\n\u001b[1;32m    322\u001b[0m                 \u001b[0;32mbreak\u001b[0m\u001b[0;34m\u001b[0m\u001b[0;34m\u001b[0m\u001b[0m\n",
            "\u001b[0;32m/usr/lib/python3.9/http/client.py\u001b[0m in \u001b[0;36m_read_status\u001b[0;34m(self)\u001b[0m\n\u001b[1;32m    279\u001b[0m \u001b[0;34m\u001b[0m\u001b[0m\n\u001b[1;32m    280\u001b[0m     \u001b[0;32mdef\u001b[0m \u001b[0m_read_status\u001b[0m\u001b[0;34m(\u001b[0m\u001b[0mself\u001b[0m\u001b[0;34m)\u001b[0m\u001b[0;34m:\u001b[0m\u001b[0;34m\u001b[0m\u001b[0;34m\u001b[0m\u001b[0m\n\u001b[0;32m--> 281\u001b[0;31m         \u001b[0mline\u001b[0m \u001b[0;34m=\u001b[0m \u001b[0mstr\u001b[0m\u001b[0;34m(\u001b[0m\u001b[0mself\u001b[0m\u001b[0;34m.\u001b[0m\u001b[0mfp\u001b[0m\u001b[0;34m.\u001b[0m\u001b[0mreadline\u001b[0m\u001b[0;34m(\u001b[0m\u001b[0m_MAXLINE\u001b[0m \u001b[0;34m+\u001b[0m \u001b[0;36m1\u001b[0m\u001b[0;34m)\u001b[0m\u001b[0;34m,\u001b[0m \u001b[0;34m\"iso-8859-1\"\u001b[0m\u001b[0;34m)\u001b[0m\u001b[0;34m\u001b[0m\u001b[0;34m\u001b[0m\u001b[0m\n\u001b[0m\u001b[1;32m    282\u001b[0m         \u001b[0;32mif\u001b[0m \u001b[0mlen\u001b[0m\u001b[0;34m(\u001b[0m\u001b[0mline\u001b[0m\u001b[0;34m)\u001b[0m \u001b[0;34m>\u001b[0m \u001b[0m_MAXLINE\u001b[0m\u001b[0;34m:\u001b[0m\u001b[0;34m\u001b[0m\u001b[0;34m\u001b[0m\u001b[0m\n\u001b[1;32m    283\u001b[0m             \u001b[0;32mraise\u001b[0m \u001b[0mLineTooLong\u001b[0m\u001b[0;34m(\u001b[0m\u001b[0;34m\"status line\"\u001b[0m\u001b[0;34m)\u001b[0m\u001b[0;34m\u001b[0m\u001b[0;34m\u001b[0m\u001b[0m\n",
            "\u001b[0;32m/usr/lib/python3.9/socket.py\u001b[0m in \u001b[0;36mreadinto\u001b[0;34m(self, b)\u001b[0m\n\u001b[1;32m    702\u001b[0m         \u001b[0;32mwhile\u001b[0m \u001b[0;32mTrue\u001b[0m\u001b[0;34m:\u001b[0m\u001b[0;34m\u001b[0m\u001b[0;34m\u001b[0m\u001b[0m\n\u001b[1;32m    703\u001b[0m             \u001b[0;32mtry\u001b[0m\u001b[0;34m:\u001b[0m\u001b[0;34m\u001b[0m\u001b[0;34m\u001b[0m\u001b[0m\n\u001b[0;32m--> 704\u001b[0;31m                 \u001b[0;32mreturn\u001b[0m \u001b[0mself\u001b[0m\u001b[0;34m.\u001b[0m\u001b[0m_sock\u001b[0m\u001b[0;34m.\u001b[0m\u001b[0mrecv_into\u001b[0m\u001b[0;34m(\u001b[0m\u001b[0mb\u001b[0m\u001b[0;34m)\u001b[0m\u001b[0;34m\u001b[0m\u001b[0;34m\u001b[0m\u001b[0m\n\u001b[0m\u001b[1;32m    705\u001b[0m             \u001b[0;32mexcept\u001b[0m \u001b[0mtimeout\u001b[0m\u001b[0;34m:\u001b[0m\u001b[0;34m\u001b[0m\u001b[0;34m\u001b[0m\u001b[0m\n\u001b[1;32m    706\u001b[0m                 \u001b[0mself\u001b[0m\u001b[0;34m.\u001b[0m\u001b[0m_timeout_occurred\u001b[0m \u001b[0;34m=\u001b[0m \u001b[0;32mTrue\u001b[0m\u001b[0;34m\u001b[0m\u001b[0;34m\u001b[0m\u001b[0m\n",
            "\u001b[0;32m/usr/lib/python3.9/ssl.py\u001b[0m in \u001b[0;36mrecv_into\u001b[0;34m(self, buffer, nbytes, flags)\u001b[0m\n\u001b[1;32m   1240\u001b[0m                   \u001b[0;34m\"non-zero flags not allowed in calls to recv_into() on %s\"\u001b[0m \u001b[0;34m%\u001b[0m\u001b[0;34m\u001b[0m\u001b[0;34m\u001b[0m\u001b[0m\n\u001b[1;32m   1241\u001b[0m                   self.__class__)\n\u001b[0;32m-> 1242\u001b[0;31m             \u001b[0;32mreturn\u001b[0m \u001b[0mself\u001b[0m\u001b[0;34m.\u001b[0m\u001b[0mread\u001b[0m\u001b[0;34m(\u001b[0m\u001b[0mnbytes\u001b[0m\u001b[0;34m,\u001b[0m \u001b[0mbuffer\u001b[0m\u001b[0;34m)\u001b[0m\u001b[0;34m\u001b[0m\u001b[0;34m\u001b[0m\u001b[0m\n\u001b[0m\u001b[1;32m   1243\u001b[0m         \u001b[0;32melse\u001b[0m\u001b[0;34m:\u001b[0m\u001b[0;34m\u001b[0m\u001b[0;34m\u001b[0m\u001b[0m\n\u001b[1;32m   1244\u001b[0m             \u001b[0;32mreturn\u001b[0m \u001b[0msuper\u001b[0m\u001b[0;34m(\u001b[0m\u001b[0;34m)\u001b[0m\u001b[0;34m.\u001b[0m\u001b[0mrecv_into\u001b[0m\u001b[0;34m(\u001b[0m\u001b[0mbuffer\u001b[0m\u001b[0;34m,\u001b[0m \u001b[0mnbytes\u001b[0m\u001b[0;34m,\u001b[0m \u001b[0mflags\u001b[0m\u001b[0;34m)\u001b[0m\u001b[0;34m\u001b[0m\u001b[0;34m\u001b[0m\u001b[0m\n",
            "\u001b[0;32m/usr/lib/python3.9/ssl.py\u001b[0m in \u001b[0;36mread\u001b[0;34m(self, len, buffer)\u001b[0m\n\u001b[1;32m   1098\u001b[0m         \u001b[0;32mtry\u001b[0m\u001b[0;34m:\u001b[0m\u001b[0;34m\u001b[0m\u001b[0;34m\u001b[0m\u001b[0m\n\u001b[1;32m   1099\u001b[0m             \u001b[0;32mif\u001b[0m \u001b[0mbuffer\u001b[0m \u001b[0;32mis\u001b[0m \u001b[0;32mnot\u001b[0m \u001b[0;32mNone\u001b[0m\u001b[0;34m:\u001b[0m\u001b[0;34m\u001b[0m\u001b[0;34m\u001b[0m\u001b[0m\n\u001b[0;32m-> 1100\u001b[0;31m                 \u001b[0;32mreturn\u001b[0m \u001b[0mself\u001b[0m\u001b[0;34m.\u001b[0m\u001b[0m_sslobj\u001b[0m\u001b[0;34m.\u001b[0m\u001b[0mread\u001b[0m\u001b[0;34m(\u001b[0m\u001b[0mlen\u001b[0m\u001b[0;34m,\u001b[0m \u001b[0mbuffer\u001b[0m\u001b[0;34m)\u001b[0m\u001b[0;34m\u001b[0m\u001b[0;34m\u001b[0m\u001b[0m\n\u001b[0m\u001b[1;32m   1101\u001b[0m             \u001b[0;32melse\u001b[0m\u001b[0;34m:\u001b[0m\u001b[0;34m\u001b[0m\u001b[0;34m\u001b[0m\u001b[0m\n\u001b[1;32m   1102\u001b[0m                 \u001b[0;32mreturn\u001b[0m \u001b[0mself\u001b[0m\u001b[0;34m.\u001b[0m\u001b[0m_sslobj\u001b[0m\u001b[0;34m.\u001b[0m\u001b[0mread\u001b[0m\u001b[0;34m(\u001b[0m\u001b[0mlen\u001b[0m\u001b[0;34m)\u001b[0m\u001b[0;34m\u001b[0m\u001b[0;34m\u001b[0m\u001b[0m\n",
            "\u001b[0;31mKeyboardInterrupt\u001b[0m: "
          ]
        }
      ],
      "source": [
        "# Itere sobre o dicionário cities_codes e chame a função download_cities para cada cidade\n",
        "for city_name, city_code in cities_codes.items():\n",
        "    single_city_code = {city_name: city_code}\n",
        "    car.download_cities(cities_codes=single_city_code, folder='drive/MyDrive/SICAR/CIDADES/' + city_name, debug=True)\n"
      ]
    },
    {
      "cell_type": "markdown",
      "metadata": {
        "id": "VgJozoVPR7lq"
      },
      "source": [
        "### Download cities (returning failed cities)"
      ]
    },
    {
      "cell_type": "code",
      "execution_count": 40,
      "metadata": {
        "colab": {
          "base_uri": "https://localhost:8080/",
          "height": 1000
        },
        "id": "zdA-r0dVSB1C",
        "outputId": "61a5aa1d-76ca-451f-c2f5-0cfce1a5913e"
      },
      "outputs": [
        {
          "output_type": "stream",
          "name": "stdout",
          "text": [
            "Invalid Captcha: Sx4xEl\n",
            "Try 3 - Incorrect captcha: Sx4xEl :-(\n",
            "Try 2 - Requesting shapefile with captcha: AQgeM\n",
            "Try 2 - Incorrect captcha: AQgeM :-(\n",
            "Invalid Captcha: JUIGSZ\n",
            "Try 1 - Requesting shapefile with captcha: T4CoU\n",
            "Try 1 - Incorrect captcha: T4CoU :-(\n",
            "Try 3 - Requesting shapefile with captcha: FwoSq\n",
            "Try 3 - Incorrect captcha: FwoSq :-(\n",
            "Try 2 - Requesting shapefile with captcha: kVyUc\n"
          ]
        },
        {
          "output_type": "stream",
          "name": "stderr",
          "text": [
            "Downloading shapefile city code 3100203: 8.79kKB [00:04, 2.24kKB/s]                           \n"
          ]
        },
        {
          "output_type": "stream",
          "name": "stdout",
          "text": [
            "Try 3 - Requesting shapefile with captcha: 6dn3h\n"
          ]
        },
        {
          "output_type": "stream",
          "name": "stderr",
          "text": [
            "Downloading shapefile city code 3100302: 6.70kKB [00:01, 5.09kKB/s]                           \n"
          ]
        },
        {
          "output_type": "stream",
          "name": "stdout",
          "text": [
            "Invalid Captcha: WIA\n",
            "Try 3 - Requesting shapefile with captcha: YSIZH\n",
            "Try 3 - Incorrect captcha: YSIZH :-(\n",
            "Invalid Captcha: F2arkU\n",
            "Invalid Captcha: J3miuw0\n",
            "Try 2 - Requesting shapefile with captcha: IQayo\n",
            "Try 2 - Incorrect captcha: IQayo :-(\n",
            "Try 1 - Requesting shapefile with captcha: fKXPu\n"
          ]
        },
        {
          "output_type": "stream",
          "name": "stderr",
          "text": [
            "Downloading shapefile city code 3100401: 100%|██████████| 1.25k/1.25k [00:01<00:00, 644KB/s]  \n"
          ]
        },
        {
          "output_type": "stream",
          "name": "stdout",
          "text": [
            "Try 3 - Requesting shapefile with captcha: nxvB8\n"
          ]
        },
        {
          "output_type": "stream",
          "name": "stderr",
          "text": [
            "Downloading shapefile city code 3100500: 100%|██████████| 7.27k/7.27k [00:01<00:00, 5.02kKB/s]\n"
          ]
        },
        {
          "output_type": "stream",
          "name": "stdout",
          "text": [
            "Invalid Captcha: yC2Q2V6\n",
            "Invalid Captcha: 853q\n",
            "Try 3 - Requesting shapefile with captcha: VEZnj\n",
            "Try 3 - Incorrect captcha: VEZnj :-(\n",
            "Invalid Captcha: coww\n",
            "Invalid Captcha: 48hi5P\n",
            "Invalid Captcha: D2YXge\n",
            "Try 2 - Requesting shapefile with captcha: L43mV\n"
          ]
        },
        {
          "output_type": "stream",
          "name": "stderr",
          "text": [
            "Downloading shapefile city code 3100609: 100%|██████████| 5.85k/5.85k [00:03<00:00, 1.90kKB/s]\n"
          ]
        },
        {
          "output_type": "stream",
          "name": "stdout",
          "text": [
            "Try 3 - Requesting shapefile with captcha: VFBYP\n"
          ]
        },
        {
          "output_type": "stream",
          "name": "stderr",
          "text": [
            "Downloading shapefile city code 3100708: 2.75kKB [00:00, 5.68kKB/s]                           \n"
          ]
        },
        {
          "output_type": "stream",
          "name": "stdout",
          "text": [
            "Try 3 - Requesting shapefile with captcha: SoCyx\n",
            "Try 3 - Incorrect captcha: SoCyx :-(\n",
            "Try 2 - Requesting shapefile with captcha: MkeGl\n",
            "Try 2 - Incorrect captcha: MkeGl :-(\n",
            "Try 1 - Requesting shapefile with captcha: SaXv5\n",
            "Try 1 - Incorrect captcha: SaXv5 :-(\n",
            "Try 3 - Requesting shapefile with captcha: pKVvA\n",
            "Try 3 - Incorrect captcha: pKVvA :-(\n",
            "Try 2 - Requesting shapefile with captcha: waGte\n",
            "Try 2 - Incorrect captcha: waGte :-(\n",
            "Try 1 - Requesting shapefile with captcha: VAy4y\n"
          ]
        },
        {
          "output_type": "stream",
          "name": "stderr",
          "text": [
            "Downloading shapefile city code 3100906: 100%|██████████| 6.25k/6.25k [00:03<00:00, 2.03kKB/s]\n"
          ]
        },
        {
          "output_type": "stream",
          "name": "stdout",
          "text": [
            "Try 3 - Requesting shapefile with captcha: FVZK2\n"
          ]
        },
        {
          "output_type": "stream",
          "name": "stderr",
          "text": [
            "Downloading shapefile city code 3101003: 1.17kKB [00:00, 5.47kKB/s]                           \n"
          ]
        },
        {
          "output_type": "stream",
          "name": "stdout",
          "text": [
            "Invalid Captcha: Qan\n",
            "Try 3 - Requesting shapefile with captcha: heyh2\n",
            "Try 3 - Incorrect captcha: heyh2 :-(\n",
            "Invalid Captcha: xpoyfin\n",
            "Invalid Captcha: Leg\n",
            "Try 2 - Requesting shapefile with captcha: Mebtk\n",
            "Try 2 - Incorrect captcha: Mebtk :-(\n",
            "Try 1 - Requesting shapefile with captcha: 2Z2VK\n",
            "Try 1 - Incorrect captcha: 2Z2VK :-(\n",
            "Try 3 - Requesting shapefile with captcha: rZClw\n",
            "Try 3 - Incorrect captcha: rZClw :-(\n",
            "Try 2 - Requesting shapefile with captcha: LoMew\n",
            "Try 2 - Incorrect captcha: LoMew :-(\n",
            "Try 1 - Requesting shapefile with captcha: BUGEK\n",
            "Try 1 - Incorrect captcha: BUGEK :-(\n",
            "Try 3 - Requesting shapefile with captcha: JU2N7\n",
            "Try 3 - Incorrect captcha: JU2N7 :-(\n",
            "Try 2 - Requesting shapefile with captcha: kytCJ\n"
          ]
        },
        {
          "output_type": "stream",
          "name": "stderr",
          "text": [
            "Downloading shapefile city code 3101300: 1.61kKB [00:02, 815KB/s]                             \n"
          ]
        },
        {
          "output_type": "stream",
          "name": "stdout",
          "text": [
            "Invalid Captcha: QING\n",
            "Try 3 - Requesting shapefile with captcha: SyCnr\n"
          ]
        },
        {
          "output_type": "stream",
          "name": "stderr",
          "text": [
            "Downloading shapefile city code 3101409: 100%|██████████| 522/522 [00:00<00:00, 602KB/s]\n"
          ]
        },
        {
          "output_type": "stream",
          "name": "stdout",
          "text": [
            "Invalid Captcha: 6EKT\n",
            "Invalid Captcha: EbHi7s\n",
            "Try 3 - Requesting shapefile with captcha: HinMG\n",
            "Try 3 - Incorrect captcha: HinMG :-(\n",
            "Try 2 - Requesting shapefile with captcha: AgWe2\n",
            "Try 2 - Incorrect captcha: AgWe2 :-(\n",
            "Try 1 - Requesting shapefile with captcha: 2EnVH\n"
          ]
        },
        {
          "output_type": "stream",
          "name": "stderr",
          "text": [
            "Downloading shapefile city code 3101508: 100%|██████████| 2.91k/2.91k [00:02<00:00, 1.32kKB/s]\n"
          ]
        },
        {
          "output_type": "stream",
          "name": "stdout",
          "text": [
            "Try 3 - Requesting shapefile with captcha: YPcYS\n"
          ]
        },
        {
          "output_type": "stream",
          "name": "stderr",
          "text": [
            "Downloading shapefile city code 3101607: 100%|██████████| 4.88k/4.87k [00:00<00:00, 5.54kKB/s]\n"
          ]
        },
        {
          "output_type": "stream",
          "name": "stdout",
          "text": [
            "Try 3 - Requesting shapefile with captcha: GAB7k\n"
          ]
        },
        {
          "output_type": "stream",
          "name": "stderr",
          "text": [
            "Downloading shapefile city code 3101631: 2.81kKB [00:00, 5.08kKB/s]                           \n"
          ]
        },
        {
          "output_type": "stream",
          "name": "stdout",
          "text": [
            "Invalid Captcha: hyYBS5\n",
            "Try 3 - Requesting shapefile with captcha: SbazU\n",
            "Try 3 - Incorrect captcha: SbazU :-(\n",
            "Try 2 - Requesting shapefile with captcha: 28Vmi\n",
            "Try 2 - Incorrect captcha: 28Vmi :-(\n",
            "Try 1 - Requesting shapefile with captcha: fihdr\n",
            "Try 1 - Incorrect captcha: fihdr :-(\n",
            "Try 3 - Requesting shapefile with captcha: JIFsp\n",
            "Try 3 - Incorrect captcha: JIFsp :-(\n",
            "Try 2 - Requesting shapefile with captcha: K746N\n",
            "Try 2 - Incorrect captcha: K746N :-(\n",
            "Try 1 - Requesting shapefile with captcha: YS86U\n"
          ]
        },
        {
          "output_type": "stream",
          "name": "stderr",
          "text": [
            "Downloading shapefile city code 3101805: 1.33kKB [00:01, 785KB/s]                         \n"
          ]
        },
        {
          "output_type": "stream",
          "name": "stdout",
          "text": [
            "Invalid Captcha: pars\n",
            "Try 3 - Requesting shapefile with captcha: asjEF\n"
          ]
        },
        {
          "output_type": "stream",
          "name": "stderr",
          "text": [
            "Downloading shapefile city code 3101904: 100%|██████████| 7.95k/7.95k [00:02<00:00, 2.83kKB/s]\n"
          ]
        },
        {
          "output_type": "stream",
          "name": "stdout",
          "text": [
            "Try 3 - Requesting shapefile with captcha: Bx8N2\n",
            "Try 3 - Incorrect captcha: Bx8N2 :-(\n",
            "Try 2 - Requesting shapefile with captcha: ZTGQA\n",
            "Try 2 - Incorrect captcha: ZTGQA :-(\n",
            "Try 1 - Requesting shapefile with captcha: cd2T9\n"
          ]
        },
        {
          "output_type": "stream",
          "name": "stderr",
          "text": [
            "Downloading shapefile city code 3102001: 100%|██████████| 3.78k/3.78k [00:02<00:00, 1.52kKB/s]\n"
          ]
        },
        {
          "output_type": "stream",
          "name": "stdout",
          "text": [
            "Try 3 - Requesting shapefile with captcha: MFFAG\n",
            "Try 3 - Incorrect captcha: MFFAG :-(\n",
            "Invalid Captcha: 9mTb\n",
            "Try 2 - Requesting shapefile with captcha: UhZ2y\n"
          ]
        },
        {
          "output_type": "stream",
          "name": "stderr",
          "text": [
            "Downloading shapefile city code 3102050: 844KB [00:01, 493KB/s]                         \n"
          ]
        },
        {
          "output_type": "stream",
          "name": "stdout",
          "text": [
            "Try 3 - Requesting shapefile with captcha: CSGsu\n",
            "Try 3 - Incorrect captcha: CSGsu :-(\n",
            "Try 2 - Requesting shapefile with captcha: BRIvY\n",
            "Try 2 - Incorrect captcha: BRIvY :-(\n",
            "Try 1 - Requesting shapefile with captcha: SBDfr\n"
          ]
        },
        {
          "output_type": "stream",
          "name": "stderr",
          "text": [
            "Downloading shapefile city code 3153509: 100%|██████████| 2.28k/2.28k [00:02<00:00, 1.14kKB/s]\n"
          ]
        },
        {
          "output_type": "stream",
          "name": "stdout",
          "text": [
            "Try 3 - Requesting shapefile with captcha: ASDYo\n",
            "Try 3 - Incorrect captcha: ASDYo :-(\n",
            "Try 2 - Requesting shapefile with captcha: 4mnPx\n",
            "Try 2 - Incorrect captcha: 4mnPx :-(\n",
            "Invalid Captcha: i786\n",
            "Try 1 - Requesting shapefile with captcha: qVPhx\n"
          ]
        },
        {
          "output_type": "stream",
          "name": "stderr",
          "text": [
            "Downloading shapefile city code 3102100: 8.12kKB [00:04, 2.03kKB/s]                           \n"
          ]
        },
        {
          "output_type": "stream",
          "name": "stdout",
          "text": [
            "Try 3 - Requesting shapefile with captcha: B7eL9\n"
          ]
        },
        {
          "output_type": "stream",
          "name": "stderr",
          "text": [
            "Downloading shapefile city code 3102209: 100%|██████████| 2.59k/2.59k [00:00<00:00, 4.58kKB/s]\n"
          ]
        },
        {
          "output_type": "stream",
          "name": "stdout",
          "text": [
            "Try 3 - Requesting shapefile with captcha: i7PRk\n",
            "Try 3 - Incorrect captcha: i7PRk :-(\n",
            "Try 2 - Requesting shapefile with captcha: sFO8L\n",
            "Try 2 - Incorrect captcha: sFO8L :-(\n",
            "Try 1 - Requesting shapefile with captcha: Stpue\n",
            "Try 1 - Incorrect captcha: Stpue :-(\n",
            "Invalid Captcha: JEGY\n",
            "Try 3 - Requesting shapefile with captcha: Ukegs\n",
            "Try 3 - Incorrect captcha: Ukegs :-(\n",
            "Try 2 - Requesting shapefile with captcha: NOUKB\n",
            "Try 2 - Incorrect captcha: NOUKB :-(\n",
            "Try 1 - Requesting shapefile with captcha: EXxkZ\n"
          ]
        },
        {
          "output_type": "stream",
          "name": "stderr",
          "text": [
            "Downloading shapefile city code 3102407: 100%|██████████| 3.98k/3.98k [00:02<00:00, 1.58kKB/s]\n"
          ]
        },
        {
          "output_type": "stream",
          "name": "stdout",
          "text": [
            "Invalid Captcha: GG7Z\n",
            "Try 3 - Requesting shapefile with captcha: SnTqN\n"
          ]
        },
        {
          "output_type": "stream",
          "name": "stderr",
          "text": [
            "Downloading shapefile city code 3102506: 2.18kKB [00:01, 1.52kKB/s]                           \n"
          ]
        },
        {
          "output_type": "stream",
          "name": "stdout",
          "text": [
            "Try 3 - Requesting shapefile with captcha: Wxgpe\n"
          ]
        },
        {
          "output_type": "stream",
          "name": "stderr",
          "text": [
            "Downloading shapefile city code 3102605: 100%|██████████| 7.32k/7.32k [00:01<00:00, 4.89kKB/s]\n"
          ]
        },
        {
          "output_type": "stream",
          "name": "stdout",
          "text": [
            "Try 3 - Requesting shapefile with captcha: KYSTY\n",
            "Try 3 - Incorrect captcha: KYSTY :-(\n",
            "Try 2 - Requesting shapefile with captcha: 4DWru\n"
          ]
        },
        {
          "output_type": "stream",
          "name": "stderr",
          "text": [
            "Downloading shapefile city code 3102803: 24.0kKB [00:08, 3.05kKB/s]                           \n"
          ]
        },
        {
          "output_type": "stream",
          "name": "stdout",
          "text": [
            "Try 3 - Requesting shapefile with captcha: NJDeM\n",
            "Try 3 - Incorrect captcha: NJDeM :-(\n",
            "Try 2 - Requesting shapefile with captcha: H38u3\n"
          ]
        },
        {
          "output_type": "stream",
          "name": "stderr",
          "text": [
            "Downloading shapefile city code 3102852: 2.16kKB [00:02, 1.07kKB/s]                           \n"
          ]
        },
        {
          "output_type": "stream",
          "name": "stdout",
          "text": [
            "Invalid Captcha: AGk\n",
            "Try 3 - Requesting shapefile with captcha: ahdae\n",
            "Try 3 - Incorrect captcha: ahdae :-(\n",
            "Try 2 - Requesting shapefile with captcha: aTZkf\n",
            "Try 2 - Incorrect captcha: aTZkf :-(\n",
            "Invalid Captcha: Fiib6e\n",
            "Try 1 - Requesting shapefile with captcha: MxesI\n",
            "Try 1 - Incorrect captcha: MxesI :-(\n",
            "Try 3 - Requesting shapefile with captcha: nuPx7\n",
            "Try 3 - Incorrect captcha: nuPx7 :-(\n",
            "Try 2 - Incorrect captcha: nuPx7 :-(\n",
            "Try 1 - Requesting shapefile with captcha: yelAr\n",
            "Try 1 - Incorrect captcha: yelAr :-(\n",
            "Invalid Captcha: nmlHVC\n",
            "Try 3 - Requesting shapefile with captcha: SigrQ\n",
            "Try 3 - Incorrect captcha: SigrQ :-(\n",
            "Try 2 - Requesting shapefile with captcha: S2baB\n"
          ]
        },
        {
          "output_type": "stream",
          "name": "stderr",
          "text": [
            "Downloading shapefile city code 3103108: 961KB [00:02, 479KB/s]                         \n"
          ]
        },
        {
          "output_type": "stream",
          "name": "stdout",
          "text": [
            "Invalid Captcha: ynrs\n",
            "Try 3 - Requesting shapefile with captcha: waa7A\n",
            "Try 3 - Incorrect captcha: waa7A :-(\n",
            "Try 2 - Requesting shapefile with captcha: hSYE9\n"
          ]
        },
        {
          "output_type": "stream",
          "name": "stderr",
          "text": [
            "Downloading shapefile city code 3103207: 100%|██████████| 1.82k/1.82k [00:02<00:00, 911KB/s]  \n"
          ]
        },
        {
          "output_type": "stream",
          "name": "stdout",
          "text": [
            "Invalid Captcha: bMGVvZ\n",
            "Try 3 - Requesting shapefile with captcha: ZLUIB\n",
            "Try 3 - Incorrect captcha: ZLUIB :-(\n",
            "Try 2 - Requesting shapefile with captcha: SGYMV\n",
            "Try 2 - Incorrect captcha: SGYMV :-(\n",
            "Try 1 - Requesting shapefile with captcha: 6fidY\n"
          ]
        },
        {
          "output_type": "stream",
          "name": "stderr",
          "text": [
            "Downloading shapefile city code 3103306: 1.04kKB [00:01, 624KB/s]                         \n"
          ]
        },
        {
          "output_type": "stream",
          "name": "stdout",
          "text": [
            "Try 3 - Requesting shapefile with captcha: ZqC5B\n",
            "Try 3 - Incorrect captcha: ZqC5B :-(\n",
            "Try 2 - Requesting shapefile with captcha: WQRSG\n",
            "Try 2 - Incorrect captcha: WQRSG :-(\n",
            "Invalid Captcha: ZING\n",
            "Try 1 - Requesting shapefile with captcha: Z89Cy\n"
          ]
        },
        {
          "output_type": "stream",
          "name": "stderr",
          "text": [
            "Downloading shapefile city code 3103405: 100%|██████████| 4.14k/4.14k [00:02<00:00, 1.45kKB/s]\n"
          ]
        },
        {
          "output_type": "stream",
          "name": "stdout",
          "text": [
            "Try 3 - Requesting shapefile with captcha: xSZVE\n",
            "Try 3 - Incorrect captcha: xSZVE :-(\n",
            "Try 2 - Requesting shapefile with captcha: tue83\n",
            "Try 2 - Incorrect captcha: tue83 :-(\n"
          ]
        },
        {
          "output_type": "error",
          "ename": "KeyboardInterrupt",
          "evalue": "ignored",
          "traceback": [
            "\u001b[0;31m---------------------------------------------------------------------------\u001b[0m",
            "\u001b[0;31mUrlNotOkException\u001b[0m                         Traceback (most recent call last)",
            "\u001b[0;32m/usr/local/lib/python3.9/dist-packages/SICAR/sicar.py\u001b[0m in \u001b[0;36mdownload_city_code\u001b[0;34m(self, city_code, tries, output_format, folder, debug)\u001b[0m\n\u001b[1;32m    281\u001b[0m                         )\n\u001b[0;32m--> 282\u001b[0;31m                     return self._download_shapefile(\n\u001b[0m\u001b[1;32m    283\u001b[0m                         \u001b[0mcity_code\u001b[0m\u001b[0;34m=\u001b[0m\u001b[0mcity_code\u001b[0m\u001b[0;34m,\u001b[0m \u001b[0mcaptcha\u001b[0m\u001b[0;34m=\u001b[0m\u001b[0mcaptcha\u001b[0m\u001b[0;34m,\u001b[0m \u001b[0mfolder\u001b[0m\u001b[0;34m=\u001b[0m\u001b[0mfolder\u001b[0m\u001b[0;34m\u001b[0m\u001b[0;34m\u001b[0m\u001b[0m\n",
            "\u001b[0;32m/usr/local/lib/python3.9/dist-packages/SICAR/sicar.py\u001b[0m in \u001b[0;36m_download_shapefile\u001b[0;34m(self, city_code, captcha, folder, chunk_size)\u001b[0m\n\u001b[1;32m    174\u001b[0m     ) -> Path:\n\u001b[0;32m--> 175\u001b[0;31m         response = self._get(\n\u001b[0m\u001b[1;32m    176\u001b[0m             \"{}?{}\".format(\n",
            "\u001b[0;32m/usr/local/lib/python3.9/dist-packages/SICAR/sicar.py\u001b[0m in \u001b[0;36m_get\u001b[0;34m(self, url, *args, **kwargs)\u001b[0m\n\u001b[1;32m     97\u001b[0m         \u001b[0;32mif\u001b[0m \u001b[0;32mnot\u001b[0m \u001b[0mresponse\u001b[0m\u001b[0;34m.\u001b[0m\u001b[0mok\u001b[0m\u001b[0;34m:\u001b[0m\u001b[0;34m\u001b[0m\u001b[0;34m\u001b[0m\u001b[0m\n\u001b[0;32m---> 98\u001b[0;31m             \u001b[0;32mraise\u001b[0m \u001b[0mUrlNotOkException\u001b[0m\u001b[0;34m(\u001b[0m\u001b[0murl\u001b[0m\u001b[0;34m)\u001b[0m\u001b[0;34m\u001b[0m\u001b[0;34m\u001b[0m\u001b[0m\n\u001b[0m\u001b[1;32m     99\u001b[0m \u001b[0;34m\u001b[0m\u001b[0m\n",
            "\u001b[0;31mUrlNotOkException\u001b[0m: Oh no! Failed to access https://car.gov.br/publico/municipios/shapefile?municipio%5Bid%5D=3103504&email=sicar%40sicar.com&captcha=tue83!",
            "\nDuring handling of the above exception, another exception occurred:\n",
            "\u001b[0;31mKeyboardInterrupt\u001b[0m                         Traceback (most recent call last)",
            "\u001b[0;32m<ipython-input-40-25f0c7e24fe9>\u001b[0m in \u001b[0;36m<cell line: 3>\u001b[0;34m()\u001b[0m\n\u001b[1;32m      1\u001b[0m \u001b[0mcities_codes\u001b[0m \u001b[0;34m=\u001b[0m \u001b[0;34m(\u001b[0m\u001b[0mcities_codes\u001b[0m\u001b[0;34m)\u001b[0m\u001b[0;34m\u001b[0m\u001b[0;34m\u001b[0m\u001b[0m\n\u001b[1;32m      2\u001b[0m \u001b[0;34m\u001b[0m\u001b[0m\n\u001b[0;32m----> 3\u001b[0;31m \u001b[0mfailed_cities\u001b[0m \u001b[0;34m=\u001b[0m \u001b[0mcar\u001b[0m\u001b[0;34m.\u001b[0m\u001b[0mdownload_cities\u001b[0m\u001b[0;34m(\u001b[0m\u001b[0mcities_codes\u001b[0m\u001b[0;34m=\u001b[0m\u001b[0mcities_codes\u001b[0m\u001b[0;34m,\u001b[0m \u001b[0mfolder\u001b[0m\u001b[0;34m=\u001b[0m\u001b[0;34m'drive/MyDrive/SICAR/cities'\u001b[0m\u001b[0;34m,\u001b[0m \u001b[0mtries\u001b[0m\u001b[0;34m=\u001b[0m\u001b[0;36m3\u001b[0m\u001b[0;34m,\u001b[0m \u001b[0mdebug\u001b[0m\u001b[0;34m=\u001b[0m\u001b[0;32mTrue\u001b[0m\u001b[0;34m)\u001b[0m\u001b[0;34m\u001b[0m\u001b[0;34m\u001b[0m\u001b[0m\n\u001b[0m",
            "\u001b[0;32m/usr/local/lib/python3.9/dist-packages/SICAR/sicar.py\u001b[0m in \u001b[0;36mdownload_cities\u001b[0;34m(self, cities_codes, output_format, tries, folder, debug)\u001b[0m\n\u001b[1;32m    308\u001b[0m \u001b[0;34m\u001b[0m\u001b[0m\n\u001b[1;32m    309\u001b[0m         \u001b[0;32mfor\u001b[0m \u001b[0mcity\u001b[0m\u001b[0;34m,\u001b[0m \u001b[0mcode\u001b[0m \u001b[0;32min\u001b[0m \u001b[0mcities_codes\u001b[0m\u001b[0;34m.\u001b[0m\u001b[0mitems\u001b[0m\u001b[0;34m(\u001b[0m\u001b[0;34m)\u001b[0m\u001b[0;34m:\u001b[0m\u001b[0;34m\u001b[0m\u001b[0;34m\u001b[0m\u001b[0m\n\u001b[0;32m--> 310\u001b[0;31m             if not self.download_city_code(\n\u001b[0m\u001b[1;32m    311\u001b[0m                 \u001b[0mcity_code\u001b[0m\u001b[0;34m=\u001b[0m\u001b[0mcode\u001b[0m\u001b[0;34m,\u001b[0m\u001b[0;34m\u001b[0m\u001b[0;34m\u001b[0m\u001b[0m\n\u001b[1;32m    312\u001b[0m                 \u001b[0moutput_format\u001b[0m\u001b[0;34m=\u001b[0m\u001b[0moutput_format\u001b[0m\u001b[0;34m,\u001b[0m\u001b[0;34m\u001b[0m\u001b[0;34m\u001b[0m\u001b[0m\n",
            "\u001b[0;32m/usr/local/lib/python3.9/dist-packages/SICAR/sicar.py\u001b[0m in \u001b[0;36mdownload_city_code\u001b[0;34m(self, city_code, tries, output_format, folder, debug)\u001b[0m\n\u001b[1;32m    293\u001b[0m                     \u001b[0mprint\u001b[0m\u001b[0;34m(\u001b[0m\u001b[0;34m\"Try {} - Incorrect captcha: {} :-(\"\u001b[0m\u001b[0;34m.\u001b[0m\u001b[0mformat\u001b[0m\u001b[0;34m(\u001b[0m\u001b[0mtries\u001b[0m\u001b[0;34m,\u001b[0m \u001b[0mcaptcha\u001b[0m\u001b[0;34m)\u001b[0m\u001b[0;34m)\u001b[0m\u001b[0;34m\u001b[0m\u001b[0;34m\u001b[0m\u001b[0m\n\u001b[1;32m    294\u001b[0m                 \u001b[0mtries\u001b[0m \u001b[0;34m-=\u001b[0m \u001b[0;36m1\u001b[0m\u001b[0;34m\u001b[0m\u001b[0;34m\u001b[0m\u001b[0m\n\u001b[0;32m--> 295\u001b[0;31m                 \u001b[0mtime\u001b[0m\u001b[0;34m.\u001b[0m\u001b[0msleep\u001b[0m\u001b[0;34m(\u001b[0m\u001b[0;36m1\u001b[0m \u001b[0;34m+\u001b[0m \u001b[0mrandom\u001b[0m\u001b[0;34m.\u001b[0m\u001b[0mrandom\u001b[0m\u001b[0;34m(\u001b[0m\u001b[0;34m)\u001b[0m \u001b[0;34m+\u001b[0m \u001b[0mrandom\u001b[0m\u001b[0;34m.\u001b[0m\u001b[0mrandom\u001b[0m\u001b[0;34m(\u001b[0m\u001b[0;34m)\u001b[0m\u001b[0;34m)\u001b[0m\u001b[0;34m\u001b[0m\u001b[0;34m\u001b[0m\u001b[0m\n\u001b[0m\u001b[1;32m    296\u001b[0m \u001b[0;34m\u001b[0m\u001b[0m\n\u001b[1;32m    297\u001b[0m         \u001b[0;32mreturn\u001b[0m \u001b[0;32mFalse\u001b[0m\u001b[0;34m\u001b[0m\u001b[0;34m\u001b[0m\u001b[0m\n",
            "\u001b[0;31mKeyboardInterrupt\u001b[0m: "
          ]
        }
      ],
      "source": [
        "cities_codes = (cities_codes)\n",
        "\n",
        "failed_cities = car.download_cities(cities_codes=cities_codes, folder='drive/MyDrive/SICAR/cities' + cities_codes, tries=3, debug=True)"
      ]
    },
    {
      "cell_type": "code",
      "execution_count": null,
      "metadata": {
        "colab": {
          "base_uri": "https://localhost:8080/"
        },
        "id": "twTpIsaaa2QV",
        "outputId": "13752854-218b-491b-dc9c-9ce7fe650239"
      },
      "outputs": [
        {
          "name": "stdout",
          "output_type": "stream",
          "text": [
            "{'São Gabriel da Cachoeira': '1303809'}\n"
          ]
        }
      ],
      "source": [
        "pprint.pprint(failed_cities)"
      ]
    },
    {
      "cell_type": "markdown",
      "metadata": {
        "id": "UOPTmr7J1JDy"
      },
      "source": [
        "### Download state"
      ]
    },
    {
      "cell_type": "code",
      "execution_count": 41,
      "metadata": {
        "colab": {
          "base_uri": "https://localhost:8080/",
          "height": 834
        },
        "id": "TgGAFvbG0RME",
        "outputId": "d016e276-0415-46ba-afc1-e140003c184e"
      },
      "outputs": [
        {
          "output_type": "stream",
          "name": "stderr",
          "text": [
            "Downloading shapefile city code 1200013: 6.21kKB [00:03, 1.99kKB/s]                           \n",
            "Downloading shapefile city code 1200054: 2.23kKB [00:00, 6.05kKB/s]                           \n",
            "Downloading shapefile city code 1200104: 100%|██████████| 9.37k/9.37k [00:04<00:00, 2.18kKB/s]\n",
            "Downloading shapefile city code 1200138: 9.48kKB [00:01, 5.12kKB/s]                           \n",
            "Downloading shapefile city code 1200179: 100%|██████████| 4.50k/4.50k [00:02<00:00, 1.58kKB/s]\n",
            "Downloading shapefile city code 1200203: 5.28kKB [00:03, 1.72kKB/s]                           \n",
            "Downloading shapefile city code 1200252: 3.65kKB [00:02, 1.43kKB/s]                           \n",
            "Downloading shapefile city code 1200302: 100%|██████████| 8.36k/8.36k [00:02<00:00, 2.98kKB/s]\n",
            "Downloading shapefile city code 1200328: 100%|██████████| 198/198 [00:01<00:00, 172KB/s]\n",
            "Downloading shapefile city code 1200336: 1.92kKB [00:02, 947KB/s]                             \n",
            "Downloading shapefile city code 1200344: 100%|██████████| 3.30k/3.30k [00:02<00:00, 1.31kKB/s]\n",
            "Downloading shapefile city code 1200351: 100%|██████████| 780/780 [00:00<00:00, 906KB/s]\n",
            "Downloading shapefile city code 1200385: 3.96kKB [00:02, 1.56kKB/s]                           \n",
            "Downloading shapefile city code 1200807: 100%|██████████| 5.70k/5.70k [00:03<00:00, 1.84kKB/s]\n",
            "Downloading shapefile city code 1200393: 1.41kKB [00:02, 708KB/s]                             \n",
            "Downloading shapefile city code 1200401: 15.5kKB [00:05, 2.93kKB/s]                           \n",
            "Downloading shapefile city code 1200427: 100%|██████████| 2.04k/2.04k [00:02<00:00, 1.02kKB/s]\n",
            "Downloading shapefile city code 1200435: 100%|██████████| 721/721 [00:00<00:00, 19.1kKB/s]\n",
            "Downloading shapefile city code 1200450: 100%|██████████| 8.52k/8.52k [00:04<00:00, 2.14kKB/s]\n",
            "Downloading shapefile city code 1200500: 15.6kKB [00:06, 2.65kKB/s]                           \n",
            "Downloading shapefile city code 1200609: 10.7kKB [00:04, 2.42kKB/s]                           \n",
            "Downloading shapefile city code 1200708: 100%|██████████| 8.19k/8.19k [00:03<00:00, 2.23kKB/s]\n",
            "Downloading shapefile city code 2700102: 954KB [00:00, 2.99kKB/s]                         \n",
            "Downloading shapefile city code 2700201: 100%|██████████| 1.73k/1.73k [00:02<00:00, 872KB/s]\n",
            "Downloading shapefile city code 2700300: 100%|██████████| 1.19k/1.19k [00:01<00:00, 693KB/s]\n",
            "Downloading shapefile city code 2700409: 100%|██████████| 3.00k/2.99k [00:00<00:00, 4.34kKB/s]\n",
            "Downloading shapefile city code 2700508: 1.16kKB [00:01, 683KB/s]                         \n",
            "Downloading shapefile city code 2700607: 128KB [00:00, 149KB/s]                          \n",
            "Downloading shapefile city code 2700706: 100%|██████████| 870/870 [00:01<00:00, 599KB/s]\n"
          ]
        },
        {
          "output_type": "error",
          "ename": "KeyboardInterrupt",
          "evalue": "ignored",
          "traceback": [
            "\u001b[0;31m---------------------------------------------------------------------------\u001b[0m",
            "\u001b[0;31mKeyboardInterrupt\u001b[0m                         Traceback (most recent call last)",
            "\u001b[0;32m<ipython-input-41-bf2ead170608>\u001b[0m in \u001b[0;36m<cell line: 3>\u001b[0;34m()\u001b[0m\n\u001b[1;32m      2\u001b[0m \u001b[0;34m\u001b[0m\u001b[0m\n\u001b[1;32m      3\u001b[0m \u001b[0;32mfor\u001b[0m \u001b[0mstate\u001b[0m \u001b[0;32min\u001b[0m \u001b[0mstates\u001b[0m\u001b[0;34m:\u001b[0m\u001b[0;34m\u001b[0m\u001b[0;34m\u001b[0m\u001b[0m\n\u001b[0;32m----> 4\u001b[0;31m     \u001b[0mcar\u001b[0m\u001b[0;34m.\u001b[0m\u001b[0mdownload_state\u001b[0m\u001b[0;34m(\u001b[0m\u001b[0mstate\u001b[0m\u001b[0;34m=\u001b[0m\u001b[0mstate\u001b[0m\u001b[0;34m,\u001b[0m \u001b[0mfolder\u001b[0m\u001b[0;34m=\u001b[0m\u001b[0;34m'drive/MyDrive/SICAR/Estados'\u001b[0m \u001b[0;34m+\u001b[0m \u001b[0mstate\u001b[0m\u001b[0;34m,\u001b[0m \u001b[0mdebug\u001b[0m\u001b[0;34m=\u001b[0m\u001b[0;32mFalse\u001b[0m\u001b[0;34m)\u001b[0m\u001b[0;34m\u001b[0m\u001b[0;34m\u001b[0m\u001b[0m\n\u001b[0m",
            "\u001b[0;32m/usr/local/lib/python3.9/dist-packages/SICAR/sicar.py\u001b[0m in \u001b[0;36mdownload_state\u001b[0;34m(self, state, output_format, tries, folder, debug)\u001b[0m\n\u001b[1;32m    329\u001b[0m         \u001b[0mcities_codes\u001b[0m \u001b[0;34m=\u001b[0m \u001b[0mself\u001b[0m\u001b[0;34m.\u001b[0m\u001b[0mget_cities_codes\u001b[0m\u001b[0;34m(\u001b[0m\u001b[0mstate\u001b[0m\u001b[0;34m=\u001b[0m\u001b[0mstate\u001b[0m\u001b[0;34m)\u001b[0m\u001b[0;34m\u001b[0m\u001b[0;34m\u001b[0m\u001b[0m\n\u001b[1;32m    330\u001b[0m \u001b[0;34m\u001b[0m\u001b[0m\n\u001b[0;32m--> 331\u001b[0;31m         return self.download_cities(\n\u001b[0m\u001b[1;32m    332\u001b[0m             \u001b[0mcities_codes\u001b[0m\u001b[0;34m=\u001b[0m\u001b[0mcities_codes\u001b[0m\u001b[0;34m,\u001b[0m\u001b[0;34m\u001b[0m\u001b[0;34m\u001b[0m\u001b[0m\n\u001b[1;32m    333\u001b[0m             \u001b[0moutput_format\u001b[0m\u001b[0;34m=\u001b[0m\u001b[0moutput_format\u001b[0m\u001b[0;34m,\u001b[0m\u001b[0;34m\u001b[0m\u001b[0;34m\u001b[0m\u001b[0m\n",
            "\u001b[0;32m/usr/local/lib/python3.9/dist-packages/SICAR/sicar.py\u001b[0m in \u001b[0;36mdownload_cities\u001b[0;34m(self, cities_codes, output_format, tries, folder, debug)\u001b[0m\n\u001b[1;32m    308\u001b[0m \u001b[0;34m\u001b[0m\u001b[0m\n\u001b[1;32m    309\u001b[0m         \u001b[0;32mfor\u001b[0m \u001b[0mcity\u001b[0m\u001b[0;34m,\u001b[0m \u001b[0mcode\u001b[0m \u001b[0;32min\u001b[0m \u001b[0mcities_codes\u001b[0m\u001b[0;34m.\u001b[0m\u001b[0mitems\u001b[0m\u001b[0;34m(\u001b[0m\u001b[0;34m)\u001b[0m\u001b[0;34m:\u001b[0m\u001b[0;34m\u001b[0m\u001b[0;34m\u001b[0m\u001b[0m\n\u001b[0;32m--> 310\u001b[0;31m             if not self.download_city_code(\n\u001b[0m\u001b[1;32m    311\u001b[0m                 \u001b[0mcity_code\u001b[0m\u001b[0;34m=\u001b[0m\u001b[0mcode\u001b[0m\u001b[0;34m,\u001b[0m\u001b[0;34m\u001b[0m\u001b[0;34m\u001b[0m\u001b[0m\n\u001b[1;32m    312\u001b[0m                 \u001b[0moutput_format\u001b[0m\u001b[0;34m=\u001b[0m\u001b[0moutput_format\u001b[0m\u001b[0;34m,\u001b[0m\u001b[0;34m\u001b[0m\u001b[0;34m\u001b[0m\u001b[0m\n",
            "\u001b[0;32m/usr/local/lib/python3.9/dist-packages/SICAR/sicar.py\u001b[0m in \u001b[0;36mdownload_city_code\u001b[0;34m(self, city_code, tries, output_format, folder, debug)\u001b[0m\n\u001b[1;32m    287\u001b[0m                         \u001b[0mprint\u001b[0m\u001b[0;34m(\u001b[0m\u001b[0;34m\"Invalid Captcha: {}\"\u001b[0m\u001b[0;34m.\u001b[0m\u001b[0mformat\u001b[0m\u001b[0;34m(\u001b[0m\u001b[0mcaptcha\u001b[0m\u001b[0;34m)\u001b[0m\u001b[0;34m)\u001b[0m\u001b[0;34m\u001b[0m\u001b[0;34m\u001b[0m\u001b[0m\n\u001b[1;32m    288\u001b[0m \u001b[0;34m\u001b[0m\u001b[0m\n\u001b[0;32m--> 289\u001b[0;31m                     \u001b[0mtime\u001b[0m\u001b[0;34m.\u001b[0m\u001b[0msleep\u001b[0m\u001b[0;34m(\u001b[0m\u001b[0;36m0.75\u001b[0m \u001b[0;34m+\u001b[0m \u001b[0mrandom\u001b[0m\u001b[0;34m.\u001b[0m\u001b[0mrandom\u001b[0m\u001b[0;34m(\u001b[0m\u001b[0;34m)\u001b[0m \u001b[0;34m+\u001b[0m \u001b[0mrandom\u001b[0m\u001b[0;34m.\u001b[0m\u001b[0mrandom\u001b[0m\u001b[0;34m(\u001b[0m\u001b[0;34m)\u001b[0m\u001b[0;34m)\u001b[0m\u001b[0;34m\u001b[0m\u001b[0;34m\u001b[0m\u001b[0m\n\u001b[0m\u001b[1;32m    290\u001b[0m \u001b[0;34m\u001b[0m\u001b[0m\n\u001b[1;32m    291\u001b[0m             \u001b[0;32mexcept\u001b[0m \u001b[0mException\u001b[0m\u001b[0;34m:\u001b[0m\u001b[0;34m\u001b[0m\u001b[0;34m\u001b[0m\u001b[0m\n",
            "\u001b[0;31mKeyboardInterrupt\u001b[0m: "
          ]
        }
      ],
      "source": [
        "states = ['AC', 'AL', 'AP', 'AM', 'BA', 'CE', 'DF', 'ES', 'GO', 'MA', 'MT', 'MS', 'MG', 'PA', 'PB', 'PR', 'PE', 'PI', 'RJ', 'RN', 'RS', 'RO', 'RR', 'SC', 'SP', 'SE', 'TO']\n",
        "\n",
        "for state in states:\n",
        "    car.download_state(state=state, folder='drive/MyDrive/SICAR/Estados' + state, debug=False)\n"
      ]
    }
  ],
  "metadata": {
    "colab": {
      "name": "Copy of example.ipynb",
      "provenance": []
    },
    "kernelspec": {
      "display_name": "Python 3",
      "name": "python3"
    }
  },
  "nbformat": 4,
  "nbformat_minor": 0
}